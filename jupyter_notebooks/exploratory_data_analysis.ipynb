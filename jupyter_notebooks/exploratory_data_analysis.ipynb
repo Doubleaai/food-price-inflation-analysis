{
 "cells": [
  {
   "cell_type": "markdown",
   "id": "b28f4973",
   "metadata": {},
   "source": [
    "## Exploratory Data Analysis"
   ]
  },
  {
   "cell_type": "markdown",
   "id": "6720838f",
   "metadata": {},
   "source": [
    "### Section 1 - Initial Data Handling"
   ]
  },
  {
   "cell_type": "markdown",
   "id": "76e3dbdc",
   "metadata": {},
   "source": [
    "Our first step is to import our libraries for analysis:"
   ]
  },
  {
   "cell_type": "code",
   "execution_count": null,
   "id": "e0a539d9",
   "metadata": {},
   "outputs": [],
   "source": [
    "# import libraries\n",
    "import pandas as pd\n",
    "import numpy as np\n",
    "import matplotlib.pyplot as plt"
   ]
  },
  {
   "cell_type": "markdown",
   "id": "8c0aa4e6",
   "metadata": {},
   "source": [
    "Next we need to load our dataset for inspection:"
   ]
  },
  {
   "cell_type": "code",
   "execution_count": 12,
   "id": "1f102354",
   "metadata": {},
   "outputs": [],
   "source": [
    "df = pd.read_csv(\"../data/food_price_feature_engineered.csv\")"
   ]
  },
  {
   "cell_type": "code",
   "execution_count": 13,
   "id": "8c7c7e09",
   "metadata": {},
   "outputs": [
    {
     "name": "stdout",
     "output_type": "stream",
     "text": [
      "<class 'pandas.core.frame.DataFrame'>\n",
      "RangeIndex: 4798 entries, 0 to 4797\n",
      "Data columns (total 36 columns):\n",
      " #   Column                                                  Non-Null Count  Dtype  \n",
      "---  ------                                                  --------------  -----  \n",
      " 0   country                                                 4798 non-null   object \n",
      " 1   iso3                                                    4798 non-null   object \n",
      " 2   components                                              4798 non-null   object \n",
      " 3   currency                                                4798 non-null   object \n",
      " 4   start_date_observations                                 4798 non-null   object \n",
      " 5   end_date_observations                                   4798 non-null   object \n",
      " 6   number_of_markets_modeled                               4798 non-null   int64  \n",
      " 7   number_of_markets_covered                               4798 non-null   int64  \n",
      " 8   number_of_food_items                                    4798 non-null   int64  \n",
      " 9   number_of_observations_food                             4798 non-null   object \n",
      " 10  number_of_observations_other                            4798 non-null   object \n",
      " 11  data_coverage_food                                      4798 non-null   float64\n",
      " 12  average_annualized_food_inflation                       4798 non-null   float64\n",
      " 13  maximum_food_drawdown                                   4798 non-null   float64\n",
      " 14  average_annualized_food_volatility                      4798 non-null   float64\n",
      " 15  average_monthly_food_price_correlation_between_markets  4798 non-null   object \n",
      " 16  average_annual_food_price_correlation_between_markets   4798 non-null   float64\n",
      " 17  rsquared_individual_food_items                          4798 non-null   object \n",
      " 18  rsquared_individual_other_items                         4798 non-null   object \n",
      " 19  index_confidence_score                                  4798 non-null   float64\n",
      " 20  imputation_model                                        4798 non-null   object \n",
      " 21  open                                                    4734 non-null   float64\n",
      " 22  high                                                    4734 non-null   float64\n",
      " 23  low                                                     4734 non-null   float64\n",
      " 24  close                                                   4734 non-null   float64\n",
      " 25  inflation                                               4434 non-null   float64\n",
      " 26  iso3_country                                            4798 non-null   object \n",
      " 27  date                                                    4798 non-null   object \n",
      " 28  year                                                    4798 non-null   int64  \n",
      " 29  month                                                   4798 non-null   int64  \n",
      " 30  close_pct_change                                        4709 non-null   float64\n",
      " 31  close_rolling_avg_3                                     4734 non-null   float64\n",
      " 32  close_yoy_change                                        4434 non-null   float64\n",
      " 33  inflation_band                                          4434 non-null   object \n",
      " 34  days_since_last                                         4773 non-null   float64\n",
      " 35  inflation_missing                                       4798 non-null   int64  \n",
      "dtypes: float64(15), int64(6), object(15)\n",
      "memory usage: 1.3+ MB\n",
      "None\n"
     ]
    }
   ],
   "source": [
    "print(df.info())      # shows column names, types, and missing values\n",
    "\n"
   ]
  },
  {
   "cell_type": "code",
   "execution_count": null,
   "id": "3cba7fb9",
   "metadata": {},
   "outputs": [],
   "source": []
  }
 ],
 "metadata": {
  "kernelspec": {
   "display_name": ".venv",
   "language": "python",
   "name": "python3"
  },
  "language_info": {
   "codemirror_mode": {
    "name": "ipython",
    "version": 3
   },
   "file_extension": ".py",
   "mimetype": "text/x-python",
   "name": "python",
   "nbconvert_exporter": "python",
   "pygments_lexer": "ipython3",
   "version": "3.12.8"
  }
 },
 "nbformat": 4,
 "nbformat_minor": 5
}
