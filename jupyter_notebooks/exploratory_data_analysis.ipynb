{
 "cells": [
  {
   "cell_type": "markdown",
   "id": "b28f4973",
   "metadata": {},
   "source": [
    "## Exploratory Data Analysis"
   ]
  },
  {
   "cell_type": "markdown",
   "id": "6720838f",
   "metadata": {},
   "source": [
    "### Initial Data Handling"
   ]
  },
  {
   "cell_type": "markdown",
   "id": "76e3dbdc",
   "metadata": {},
   "source": [
    "Our first step is to import our libraries for analysis:"
   ]
  },
  {
   "cell_type": "code",
   "execution_count": 1,
   "id": "e0a539d9",
   "metadata": {},
   "outputs": [],
   "source": [
    "# import libraries\n",
    "import pandas as pd\n",
    "import numpy as np\n",
    "import matplotlib.pyplot as plt"
   ]
  },
  {
   "cell_type": "markdown",
   "id": "8c0aa4e6",
   "metadata": {},
   "source": [
    "Next we need to load our dataset for inspection:"
   ]
  },
  {
   "cell_type": "code",
   "execution_count": 2,
   "id": "1f102354",
   "metadata": {},
   "outputs": [],
   "source": [
    "df = pd.read_csv(\"../data/food_price_feature_engineered_clean.csv\")"
   ]
  },
  {
   "cell_type": "code",
   "execution_count": 3,
   "id": "8c7c7e09",
   "metadata": {},
   "outputs": [
    {
     "name": "stdout",
     "output_type": "stream",
     "text": [
      "<class 'pandas.core.frame.DataFrame'>\n",
      "RangeIndex: 25 entries, 0 to 24\n",
      "Data columns (total 18 columns):\n",
      " #   Column                              Non-Null Count  Dtype  \n",
      "---  ------                              --------------  -----  \n",
      " 0   country                             25 non-null     object \n",
      " 1   iso3                                25 non-null     object \n",
      " 2   components                          25 non-null     object \n",
      " 3   currency                            25 non-null     object \n",
      " 4   number_of_food_items                25 non-null     int64  \n",
      " 5   data_coverage_food                  25 non-null     float64\n",
      " 6   average_annualized_food_inflation   25 non-null     float64\n",
      " 7   maximum_food_drawdown               25 non-null     float64\n",
      " 8   average_annualized_food_volatility  25 non-null     float64\n",
      " 9   date                                25 non-null     object \n",
      " 10  open                                25 non-null     float64\n",
      " 11  high                                25 non-null     float64\n",
      " 12  low                                 25 non-null     float64\n",
      " 13  close                               25 non-null     float64\n",
      " 14  inflation                           25 non-null     float64\n",
      " 15  year                                25 non-null     int64  \n",
      " 16  month                               25 non-null     int64  \n",
      " 17  inflation_band                      25 non-null     object \n",
      "dtypes: float64(9), int64(3), object(6)\n",
      "memory usage: 3.6+ KB\n",
      "None\n"
     ]
    }
   ],
   "source": [
    "print(df.info())      # shows column names, types, and missing values\n",
    "\n"
   ]
  },
  {
   "cell_type": "markdown",
   "id": "172f9339",
   "metadata": {},
   "source": [
    "Here we can see that our dataset has the shape of 25 rows and 18 columns. \n",
    "We notice that each row is specific data concerning a seperate country.\n",
    "We also notice that our date is in float64 format, so it will be necessary to convert this to 'datetime'"
   ]
  },
  {
   "cell_type": "code",
   "execution_count": 4,
   "id": "3cba7fb9",
   "metadata": {},
   "outputs": [
    {
     "name": "stdout",
     "output_type": "stream",
     "text": [
      "<class 'pandas.core.frame.DataFrame'>\n",
      "RangeIndex: 25 entries, 0 to 24\n",
      "Data columns (total 18 columns):\n",
      " #   Column                              Non-Null Count  Dtype         \n",
      "---  ------                              --------------  -----         \n",
      " 0   country                             25 non-null     object        \n",
      " 1   iso3                                25 non-null     object        \n",
      " 2   components                          25 non-null     object        \n",
      " 3   currency                            25 non-null     object        \n",
      " 4   number_of_food_items                25 non-null     int64         \n",
      " 5   data_coverage_food                  25 non-null     float64       \n",
      " 6   average_annualized_food_inflation   25 non-null     float64       \n",
      " 7   maximum_food_drawdown               25 non-null     float64       \n",
      " 8   average_annualized_food_volatility  25 non-null     float64       \n",
      " 9   date                                25 non-null     datetime64[ns]\n",
      " 10  open                                25 non-null     float64       \n",
      " 11  high                                25 non-null     float64       \n",
      " 12  low                                 25 non-null     float64       \n",
      " 13  close                               25 non-null     float64       \n",
      " 14  inflation                           25 non-null     float64       \n",
      " 15  year                                25 non-null     int64         \n",
      " 16  month                               25 non-null     int64         \n",
      " 17  inflation_band                      25 non-null     object        \n",
      "dtypes: datetime64[ns](1), float64(9), int64(3), object(5)\n",
      "memory usage: 3.6+ KB\n",
      "None\n"
     ]
    }
   ],
   "source": [
    "# Convert 'date' column to datetime\n",
    "df['date'] = pd.to_datetime(df['date'])\n",
    "\n",
    "print(df.info())"
   ]
  },
  {
   "cell_type": "markdown",
   "id": "ddd6986a",
   "metadata": {},
   "source": [
    "Now that we have converted our 'date' column into the correct format, let's go ahead and transform our 'object' data types to categories."
   ]
  },
  {
   "cell_type": "code",
   "execution_count": 5,
   "id": "4b92c656",
   "metadata": {},
   "outputs": [],
   "source": [
    "# Convert object columns to category dtype\n",
    "cat_cols = [\"country\", \"iso3\", \"components\", \"currency\", \"inflation_band\"]\n",
    "for cat in cat_cols:\n",
    "    df[cat] = df[cat].astype(\"category\")"
   ]
  },
  {
   "cell_type": "code",
   "execution_count": 6,
   "id": "14ddc9ed",
   "metadata": {},
   "outputs": [
    {
     "name": "stdout",
     "output_type": "stream",
     "text": [
      "<class 'pandas.core.frame.DataFrame'>\n",
      "RangeIndex: 25 entries, 0 to 24\n",
      "Data columns (total 18 columns):\n",
      " #   Column                              Non-Null Count  Dtype         \n",
      "---  ------                              --------------  -----         \n",
      " 0   country                             25 non-null     category      \n",
      " 1   iso3                                25 non-null     category      \n",
      " 2   components                          25 non-null     category      \n",
      " 3   currency                            25 non-null     category      \n",
      " 4   number_of_food_items                25 non-null     int64         \n",
      " 5   data_coverage_food                  25 non-null     float64       \n",
      " 6   average_annualized_food_inflation   25 non-null     float64       \n",
      " 7   maximum_food_drawdown               25 non-null     float64       \n",
      " 8   average_annualized_food_volatility  25 non-null     float64       \n",
      " 9   date                                25 non-null     datetime64[ns]\n",
      " 10  open                                25 non-null     float64       \n",
      " 11  high                                25 non-null     float64       \n",
      " 12  low                                 25 non-null     float64       \n",
      " 13  close                               25 non-null     float64       \n",
      " 14  inflation                           25 non-null     float64       \n",
      " 15  year                                25 non-null     int64         \n",
      " 16  month                               25 non-null     int64         \n",
      " 17  inflation_band                      25 non-null     category      \n",
      "dtypes: category(5), datetime64[ns](1), float64(9), int64(3)\n",
      "memory usage: 5.9 KB\n",
      "None\n"
     ]
    }
   ],
   "source": [
    "print(df.info())"
   ]
  },
  {
   "cell_type": "markdown",
   "id": "958d600b",
   "metadata": {},
   "source": [
    "We have now successfully converted our columns into the correct data types.\n",
    "Next let us check for any missing values and duplicates:"
   ]
  },
  {
   "cell_type": "code",
   "execution_count": 7,
   "id": "9464551f",
   "metadata": {},
   "outputs": [
    {
     "data": {
      "text/plain": [
       "country                               0\n",
       "iso3                                  0\n",
       "month                                 0\n",
       "year                                  0\n",
       "inflation                             0\n",
       "close                                 0\n",
       "low                                   0\n",
       "high                                  0\n",
       "open                                  0\n",
       "date                                  0\n",
       "average_annualized_food_volatility    0\n",
       "maximum_food_drawdown                 0\n",
       "average_annualized_food_inflation     0\n",
       "data_coverage_food                    0\n",
       "number_of_food_items                  0\n",
       "currency                              0\n",
       "components                            0\n",
       "inflation_band                        0\n",
       "dtype: int64"
      ]
     },
     "execution_count": 7,
     "metadata": {},
     "output_type": "execute_result"
    }
   ],
   "source": [
    "# Inspect missing values.\n",
    "df.isna().sum().sort_values(ascending=False)\n"
   ]
  },
  {
   "cell_type": "markdown",
   "id": "25104635",
   "metadata": {},
   "source": [
    "Great, we see that there are no missing values, now let us check for duplicates:"
   ]
  },
  {
   "cell_type": "code",
   "execution_count": 8,
   "id": "e0766625",
   "metadata": {},
   "outputs": [
    {
     "data": {
      "text/html": [
       "<div>\n",
       "<style scoped>\n",
       "    .dataframe tbody tr th:only-of-type {\n",
       "        vertical-align: middle;\n",
       "    }\n",
       "\n",
       "    .dataframe tbody tr th {\n",
       "        vertical-align: top;\n",
       "    }\n",
       "\n",
       "    .dataframe thead th {\n",
       "        text-align: right;\n",
       "    }\n",
       "</style>\n",
       "<table border=\"1\" class=\"dataframe\">\n",
       "  <thead>\n",
       "    <tr style=\"text-align: right;\">\n",
       "      <th></th>\n",
       "      <th>country</th>\n",
       "      <th>iso3</th>\n",
       "      <th>components</th>\n",
       "      <th>currency</th>\n",
       "      <th>number_of_food_items</th>\n",
       "      <th>data_coverage_food</th>\n",
       "      <th>average_annualized_food_inflation</th>\n",
       "      <th>maximum_food_drawdown</th>\n",
       "      <th>average_annualized_food_volatility</th>\n",
       "      <th>date</th>\n",
       "      <th>open</th>\n",
       "      <th>high</th>\n",
       "      <th>low</th>\n",
       "      <th>close</th>\n",
       "      <th>inflation</th>\n",
       "      <th>year</th>\n",
       "      <th>month</th>\n",
       "      <th>inflation_band</th>\n",
       "    </tr>\n",
       "  </thead>\n",
       "  <tbody>\n",
       "  </tbody>\n",
       "</table>\n",
       "</div>"
      ],
      "text/plain": [
       "Empty DataFrame\n",
       "Columns: [country, iso3, components, currency, number_of_food_items, data_coverage_food, average_annualized_food_inflation, maximum_food_drawdown, average_annualized_food_volatility, date, open, high, low, close, inflation, year, month, inflation_band]\n",
       "Index: []"
      ]
     },
     "execution_count": 8,
     "metadata": {},
     "output_type": "execute_result"
    }
   ],
   "source": [
    "# Inspect duplicates.\n",
    "df.duplicated().sum()\n",
    "df[df.duplicated()]\n"
   ]
  },
  {
   "cell_type": "code",
   "execution_count": 9,
   "id": "44bc559f",
   "metadata": {},
   "outputs": [
    {
     "data": {
      "text/plain": [
       "(['number_of_food_items',\n",
       "  'data_coverage_food',\n",
       "  'average_annualized_food_inflation',\n",
       "  'maximum_food_drawdown',\n",
       "  'average_annualized_food_volatility',\n",
       "  'open',\n",
       "  'high',\n",
       "  'low',\n",
       "  'close',\n",
       "  'inflation',\n",
       "  'year',\n",
       "  'month'],\n",
       " ['country', 'iso3', 'components', 'currency', 'inflation_band'])"
      ]
     },
     "execution_count": 9,
     "metadata": {},
     "output_type": "execute_result"
    }
   ],
   "source": [
    "# Identify numeric vs categorical columns\n",
    "num_cols = df.select_dtypes(include=\"number\").columns.tolist()\n",
    "cat_cols = df.select_dtypes(include=[\"object\", \"category\"]).columns.tolist()\n",
    "\n",
    "num_cols, cat_cols"
   ]
  },
  {
   "cell_type": "markdown",
   "id": "81710d89",
   "metadata": {},
   "source": [
    "We can now see that we do not have any duplicated entries in our dataset.\n",
    "As we are relatively confident about having correctly converted our data types, and that we have no missing values or duplicated entries; we can now move on to our inital, exploratory data analysis. "
   ]
  },
  {
   "cell_type": "markdown",
   "id": "57a66a33",
   "metadata": {},
   "source": [
    "### Hypotheses:\n",
    "\n",
    "In order to better understand the drivers of food price inflation, we propose the following hypotheses:\n",
    "\n",
    "### H1 – Geopolitical Unrest and Inflation\n",
    "- **Null Hypothesis:** There is no relationship between geopolitical unrest or crises and food inflation rates.  \n",
    "- **Alternative Hypothesis:** Countries experiencing greater geopolitical unrest or crises will have higher food inflation rates.  \n",
    "- **Rationale:** Conflict disrupts supply chains, weakens currencies, and raises import costs. Outliers such as Lebanon, South Sudan, and Syria suggest that crises may drive extreme inflation.\n",
    "\n",
    "---\n",
    "\n",
    "### H2 – Volatility and Inflation\n",
    "- **Null Hypothesis:** Food price volatility is independent of food inflation rates.  \n",
    "- **Alternative Hypothesis:** Countries with higher average annualized food price volatility will also have higher inflation rates.  \n",
    "- **Rationale:** Unstable markets often face upward price pressures. Our scatter plot indicates a moderate positive relationship between volatility and inflation, with countries like Lebanon and Sudan showing both high inflation and volatility.\n",
    "\n",
    "---\n",
    "\n",
    "### H3 – Data Coverage and Inflation\n",
    "- **Null Hypothesis:** Inflation outcomes are influenced by the level of data coverage.  \n",
    "- **Alternative Hypothesis:** Inflation outcomes are independent of data coverage levels.  \n",
    "- **Rationale:** If countries with low data coverage systematically showed extreme inflation, results would be questionable. However, our analysis shows extreme inflation even in countries with high coverage, suggesting that inflation results reflect real economic pressures.\n",
    "\n",
    "---\n",
    "\n",
    "**Summary:**  \n",
    "- **H1** explores external, real-world drivers of inflation (geopolitical unrest).  \n",
    "- **H2** tests an internal relationship within the dataset (volatility vs inflation).  \n",
    "- **H3** checks data robustness by ruling out potential bias from coverage.\n"
   ]
  },
  {
   "cell_type": "markdown",
   "id": "0e6f66e8",
   "metadata": {},
   "source": [
    "### Univariate Analysis:\n",
    "Firstly we will look at univariate analysis of each numeric column:"
   ]
  },
  {
   "cell_type": "code",
   "execution_count": 10,
   "id": "7f3d4039",
   "metadata": {},
   "outputs": [
    {
     "data": {
      "text/html": [
       "<div>\n",
       "<style scoped>\n",
       "    .dataframe tbody tr th:only-of-type {\n",
       "        vertical-align: middle;\n",
       "    }\n",
       "\n",
       "    .dataframe tbody tr th {\n",
       "        vertical-align: top;\n",
       "    }\n",
       "\n",
       "    .dataframe thead th {\n",
       "        text-align: right;\n",
       "    }\n",
       "</style>\n",
       "<table border=\"1\" class=\"dataframe\">\n",
       "  <thead>\n",
       "    <tr style=\"text-align: right;\">\n",
       "      <th></th>\n",
       "      <th>count</th>\n",
       "      <th>mean</th>\n",
       "      <th>std</th>\n",
       "      <th>min</th>\n",
       "      <th>25%</th>\n",
       "      <th>50%</th>\n",
       "      <th>75%</th>\n",
       "      <th>max</th>\n",
       "    </tr>\n",
       "  </thead>\n",
       "  <tbody>\n",
       "    <tr>\n",
       "      <th>number_of_food_items</th>\n",
       "      <td>25.0</td>\n",
       "      <td>9.3200</td>\n",
       "      <td>7.016172</td>\n",
       "      <td>3.00</td>\n",
       "      <td>4.00</td>\n",
       "      <td>7.00</td>\n",
       "      <td>11.00</td>\n",
       "      <td>26.00</td>\n",
       "    </tr>\n",
       "    <tr>\n",
       "      <th>data_coverage_food</th>\n",
       "      <td>25.0</td>\n",
       "      <td>35.3404</td>\n",
       "      <td>17.451470</td>\n",
       "      <td>8.84</td>\n",
       "      <td>21.55</td>\n",
       "      <td>31.08</td>\n",
       "      <td>47.97</td>\n",
       "      <td>69.91</td>\n",
       "    </tr>\n",
       "    <tr>\n",
       "      <th>average_annualized_food_inflation</th>\n",
       "      <td>25.0</td>\n",
       "      <td>12.1988</td>\n",
       "      <td>15.052045</td>\n",
       "      <td>1.24</td>\n",
       "      <td>3.58</td>\n",
       "      <td>6.68</td>\n",
       "      <td>10.79</td>\n",
       "      <td>55.30</td>\n",
       "    </tr>\n",
       "    <tr>\n",
       "      <th>maximum_food_drawdown</th>\n",
       "      <td>25.0</td>\n",
       "      <td>-22.8580</td>\n",
       "      <td>11.123922</td>\n",
       "      <td>-40.67</td>\n",
       "      <td>-31.98</td>\n",
       "      <td>-23.71</td>\n",
       "      <td>-13.96</td>\n",
       "      <td>-2.79</td>\n",
       "    </tr>\n",
       "    <tr>\n",
       "      <th>average_annualized_food_volatility</th>\n",
       "      <td>25.0</td>\n",
       "      <td>10.5904</td>\n",
       "      <td>5.413819</td>\n",
       "      <td>1.84</td>\n",
       "      <td>7.15</td>\n",
       "      <td>9.89</td>\n",
       "      <td>12.58</td>\n",
       "      <td>24.77</td>\n",
       "    </tr>\n",
       "    <tr>\n",
       "      <th>open</th>\n",
       "      <td>25.0</td>\n",
       "      <td>7.0976</td>\n",
       "      <td>16.762704</td>\n",
       "      <td>1.07</td>\n",
       "      <td>1.40</td>\n",
       "      <td>1.45</td>\n",
       "      <td>2.57</td>\n",
       "      <td>77.30</td>\n",
       "    </tr>\n",
       "    <tr>\n",
       "      <th>high</th>\n",
       "      <td>25.0</td>\n",
       "      <td>7.2752</td>\n",
       "      <td>17.269724</td>\n",
       "      <td>1.08</td>\n",
       "      <td>1.42</td>\n",
       "      <td>1.48</td>\n",
       "      <td>2.62</td>\n",
       "      <td>79.99</td>\n",
       "    </tr>\n",
       "    <tr>\n",
       "      <th>low</th>\n",
       "      <td>25.0</td>\n",
       "      <td>6.9152</td>\n",
       "      <td>16.255538</td>\n",
       "      <td>1.05</td>\n",
       "      <td>1.36</td>\n",
       "      <td>1.43</td>\n",
       "      <td>2.52</td>\n",
       "      <td>74.61</td>\n",
       "    </tr>\n",
       "    <tr>\n",
       "      <th>close</th>\n",
       "      <td>25.0</td>\n",
       "      <td>6.9876</td>\n",
       "      <td>16.377158</td>\n",
       "      <td>1.06</td>\n",
       "      <td>1.39</td>\n",
       "      <td>1.46</td>\n",
       "      <td>2.56</td>\n",
       "      <td>75.16</td>\n",
       "    </tr>\n",
       "    <tr>\n",
       "      <th>inflation</th>\n",
       "      <td>25.0</td>\n",
       "      <td>20.0840</td>\n",
       "      <td>35.317431</td>\n",
       "      <td>-15.91</td>\n",
       "      <td>0.04</td>\n",
       "      <td>6.41</td>\n",
       "      <td>27.13</td>\n",
       "      <td>139.28</td>\n",
       "    </tr>\n",
       "    <tr>\n",
       "      <th>year</th>\n",
       "      <td>25.0</td>\n",
       "      <td>2022.8400</td>\n",
       "      <td>0.624500</td>\n",
       "      <td>2020.00</td>\n",
       "      <td>2023.00</td>\n",
       "      <td>2023.00</td>\n",
       "      <td>2023.00</td>\n",
       "      <td>2023.00</td>\n",
       "    </tr>\n",
       "    <tr>\n",
       "      <th>month</th>\n",
       "      <td>25.0</td>\n",
       "      <td>6.6000</td>\n",
       "      <td>2.254625</td>\n",
       "      <td>1.00</td>\n",
       "      <td>6.00</td>\n",
       "      <td>7.00</td>\n",
       "      <td>8.00</td>\n",
       "      <td>9.00</td>\n",
       "    </tr>\n",
       "  </tbody>\n",
       "</table>\n",
       "</div>"
      ],
      "text/plain": [
       "                                    count       mean        std      min  \\\n",
       "number_of_food_items                 25.0     9.3200   7.016172     3.00   \n",
       "data_coverage_food                   25.0    35.3404  17.451470     8.84   \n",
       "average_annualized_food_inflation    25.0    12.1988  15.052045     1.24   \n",
       "maximum_food_drawdown                25.0   -22.8580  11.123922   -40.67   \n",
       "average_annualized_food_volatility   25.0    10.5904   5.413819     1.84   \n",
       "open                                 25.0     7.0976  16.762704     1.07   \n",
       "high                                 25.0     7.2752  17.269724     1.08   \n",
       "low                                  25.0     6.9152  16.255538     1.05   \n",
       "close                                25.0     6.9876  16.377158     1.06   \n",
       "inflation                            25.0    20.0840  35.317431   -15.91   \n",
       "year                                 25.0  2022.8400   0.624500  2020.00   \n",
       "month                                25.0     6.6000   2.254625     1.00   \n",
       "\n",
       "                                        25%      50%      75%      max  \n",
       "number_of_food_items                   4.00     7.00    11.00    26.00  \n",
       "data_coverage_food                    21.55    31.08    47.97    69.91  \n",
       "average_annualized_food_inflation      3.58     6.68    10.79    55.30  \n",
       "maximum_food_drawdown                -31.98   -23.71   -13.96    -2.79  \n",
       "average_annualized_food_volatility     7.15     9.89    12.58    24.77  \n",
       "open                                   1.40     1.45     2.57    77.30  \n",
       "high                                   1.42     1.48     2.62    79.99  \n",
       "low                                    1.36     1.43     2.52    74.61  \n",
       "close                                  1.39     1.46     2.56    75.16  \n",
       "inflation                              0.04     6.41    27.13   139.28  \n",
       "year                                2023.00  2023.00  2023.00  2023.00  \n",
       "month                                  6.00     7.00     8.00     9.00  "
      ]
     },
     "execution_count": 10,
     "metadata": {},
     "output_type": "execute_result"
    }
   ],
   "source": [
    "desc = df[num_cols].describe().T  # count, mean, std, min, quartiles, max\n",
    "desc\n"
   ]
  },
  {
   "cell_type": "markdown",
   "id": "67e30743",
   "metadata": {},
   "source": [
    "Let us further illustrate our findings by producing both Histograms and Boxplots, visualising inflation as our primary variable."
   ]
  },
  {
   "cell_type": "markdown",
   "id": "ada7100e",
   "metadata": {},
   "source": [
    "**Figure 1: Distribution of Inflation**"
   ]
  },
  {
   "cell_type": "code",
   "execution_count": 11,
   "id": "99442c24",
   "metadata": {},
   "outputs": [
    {
     "data": {
      "image/png": "[encoded data removed]",
      "text/plain": [
       "<Figure size 1000x400 with 2 Axes>"
      ]
     },
     "metadata": {},
     "output_type": "display_data"
    }
   ],
   "source": [
    "# Histogram + Boxplot of Inflation\n",
    "plt.figure(figsize=(10,4))\n",
    "plt.subplot(1,2,1)\n",
    "df[\"inflation\"].hist(bins=10)\n",
    "plt.xlabel(\"Inflation (%)\"); plt.ylabel(\"Count\"); plt.title(\"Distribution of Inflation\")\n",
    "\n",
    "plt.subplot(1,2,2)\n",
    "df[\"inflation\"].plot(kind=\"box\")\n",
    "plt.title(\"Inflation – Boxplot\")\n",
    "plt.tight_layout()\n",
    "plt.show()"
   ]
  },
  {
   "cell_type": "markdown",
   "id": "e96941ad",
   "metadata": {},
   "source": [
    "**Figure 2: Inflation by Country**"
   ]
  },
  {
   "cell_type": "code",
   "execution_count": 12,
   "id": "87df18f0",
   "metadata": {},
   "outputs": [
    {
     "data": {
      "image/png": "[encoded data removed]",
      "text/plain": [
       "<Figure size 800x600 with 1 Axes>"
      ]
     },
     "metadata": {},
     "output_type": "display_data"
    }
   ],
   "source": [
    "# Bar chart of Inflation by Country (sorted)\n",
    "plt.figure(figsize=(8,6))\n",
    "tmp = df.sort_values(\"inflation\", ascending=False)\n",
    "plt.barh(tmp[\"country\"], tmp[\"inflation\"])\n",
    "plt.xlabel(\"Inflation (%)\"); plt.ylabel(\"Country\")\n",
    "plt.title(\"Inflation by Country (sorted)\")\n",
    "plt.gca().invert_yaxis()\n",
    "plt.tight_layout()\n",
    "plt.show()"
   ]
  },
  {
   "cell_type": "markdown",
   "id": "760049e9",
   "metadata": {},
   "source": [
    "**Figure 3: Top 5 vs Bottom 5 Countries by Inflation**"
   ]
  },
  {
   "cell_type": "code",
   "execution_count": 13,
   "id": "c821818f",
   "metadata": {},
   "outputs": [
    {
     "data": {
      "image/png": "[encoded data removed]",
      "text/plain": [
       "<Figure size 1200x600 with 2 Axes>"
      ]
     },
     "metadata": {},
     "output_type": "display_data"
    }
   ],
   "source": [
    "# Top 5 vs Bottom 5 Countries by Food Inflation\n",
    "# Sort by inflation\n",
    "df_sorted = df.sort_values(\"inflation\", ascending=False)\n",
    "\n",
    "# Top 5 and Bottom 5\n",
    "top5 = df_sorted.head(5)\n",
    "bottom5 = df_sorted.tail(5)\n",
    "\n",
    "# Create side-by-side bar charts\n",
    "fig, axes = plt.subplots(1, 2, figsize=(12,6))\n",
    "\n",
    "# Top 5\n",
    "axes[0].barh(top5[\"country\"], top5[\"inflation\"], color=\"tomato\")\n",
    "axes[0].invert_yaxis()  # highest on top\n",
    "axes[0].set_title(\"Top 5 Countries – Food Inflation\")\n",
    "axes[0].set_xlabel(\"Inflation (%)\")\n",
    "\n",
    "# Bottom 5\n",
    "axes[1].barh(bottom5[\"country\"], bottom5[\"inflation\"], color=\"steelblue\")\n",
    "axes[1].invert_yaxis()\n",
    "axes[1].set_title(\"Bottom 5 Countries – Food Inflation\")\n",
    "axes[1].set_xlabel(\"Inflation (%)\")\n",
    "\n",
    "plt.tight_layout()\n",
    "plt.show()\n"
   ]
  },
  {
   "cell_type": "markdown",
   "id": "a9d27045",
   "metadata": {},
   "source": [
    "### Food Price Inflation – Quick Insights\n",
    "\n",
    "Our exploratory analysis highlights several **key patterns** in the data:\n",
    "\n",
    "### 1. Inflation is highly uneven across countries\n",
    "- Most countries show **modest inflation** (median ≈ 6.4%).  \n",
    "- However, a small number of countries face **very high inflation**, which pushes the average up (mean = 20%).  \n",
    "- **Lebanon stands out** with food inflation above 139% — far higher than any other country.  \n",
    "\n",
    "*See Figure 1 (Histogram & Boxplot) - This illustrates the skewness: most values are clustered at the low end, with a few extreme outliers.*\n",
    "\n",
    "---\n",
    "\n",
    "### 2. Some countries are experiencing deflation\n",
    "- At least 5 countries (e.g., **Burkina Faso, Somalia, Mali, Afghanistan, Yemen**) show **negative food inflation** (deflation).  \n",
    "- This means food prices are actually falling in those markets, contrary to the general upward trend elsewhere.  \n",
    "\n",
    "*See Figure 2 (Bar Chart of Inflation by Country) - The chart clearly shows countries with negative inflation on the left-hand side.*\n",
    "\n",
    "---\n",
    "\n",
    "### 3. Top vs Bottom performers\n",
    "- **Highest inflation countries:** Lebanon, South Sudan, Syria, Myanmar, Haiti.  \n",
    "- **Deflationary countries:** Burkina Faso, Somalia, Mali, Afghanistan, Yemen.  \n",
    "\n",
    "*See Figure 3 (Top/Bottom 5 Bar Charts) - These league tables highlight the extremes at both ends.*\n",
    "\n",
    "---\n",
    "\n",
    "### Key Takeaways\n",
    "- **Food price inflation is not uniform**: some countries face crises, others have stable or even falling prices.  \n",
    "- The **global average hides big differences**. Outliers (like Lebanon) dominate the picture.  \n",
    "- These insights are quick-to-interpret and give a clear basis for further discussion or deeper analysis.\n",
    "\n",
    "---\n",
    "\n",
    "### Figures\n",
    "- **Figure 1:** Histogram & Boxplot of Inflation (distribution & skewness).  \n",
    "- **Figure 2:** Inflation by Country (sorted horizontal bar chart).  \n",
    "- **Figure 3:** Top 5 vs Bottom 5 Countries by Inflation.\n",
    "\n",
    "\n"
   ]
  },
  {
   "cell_type": "markdown",
   "id": "eb18ed1c",
   "metadata": {},
   "source": [
    "### About Distribution of Food Inflation:\n",
    "\n",
    "The distribution of food inflation is **positively skewed**:\n",
    "\n",
    "- Most countries fall between **0% and 10%** inflation.\n",
    "- A handful of countries face **very high inflation** (e.g., Lebanon 139%, South Sudan 74%, Syria 69%).\n",
    "- This creates a **long right-hand tail** in the distribution.\n",
    "\n",
    "**Implications:**\n",
    "- The **median (6.4%)** is a better measure of “typical” inflation than the mean (20.1%), which is distorted by outliers.\n",
    "- Global averages **hide country-level variation**.  \n",
    "- It’s more accurate to say that **most countries are stable**, while a small number are in severe crisis.\n"
   ]
  },
  {
   "cell_type": "markdown",
   "id": "f72a08e9",
   "metadata": {},
   "source": [
    "### Bivariate Analysis\n",
    "In this section, we will check for relationships between the primary variables we are concerned with (Food Price Inflation).\n",
    "Firstly we will look at testing Inflation vs Volatility. Are the countries with highest inflation also hgave the most volatile food prices?\n",
    "Let us create a scatter plot by considering *inflation* vs *average_annualized_food_volatility* variables."
   ]
  },
  {
   "cell_type": "code",
   "execution_count": 14,
   "id": "247bdf15",
   "metadata": {},
   "outputs": [
    {
     "data": {
      "image/png": "[encoded data removed]",
      "text/plain": [
       "<Figure size 800x600 with 1 Axes>"
      ]
     },
     "metadata": {},
     "output_type": "display_data"
    }
   ],
   "source": [
    "# Scatter plot of Inflation vs Volatility\n",
    "plt.figure(figsize=(8,6))\n",
    "plt.scatter(\n",
    "    df[\"average_annualized_food_volatility\"],\n",
    "    df[\"inflation\"],\n",
    "    color=\"darkorange\",\n",
    "    alpha=0.7\n",
    ")\n",
    "\n",
    "plt.xlabel(\"Average Annualized Food Volatility\")\n",
    "plt.ylabel(\"Food Inflation (%)\")\n",
    "plt.title(\"Inflation vs Volatility\")\n",
    "\n",
    "# Add simple reference lines\n",
    "plt.axhline(0, color=\"gray\", linestyle=\"--\", linewidth=1)\n",
    "plt.axvline(df[\"average_annualized_food_volatility\"].median(), color=\"blue\", linestyle=\"--\", linewidth=1, label=\"Median Volatility\")\n",
    "plt.axhline(df[\"inflation\"].median(), color=\"red\", linestyle=\"--\", linewidth=1, label=\"Median Inflation\")\n",
    "\n",
    "plt.legend()\n",
    "plt.tight_layout()\n",
    "plt.show()\n"
   ]
  },
  {
   "cell_type": "markdown",
   "id": "638cb8f2",
   "metadata": {},
   "source": [
    "Let's recreate this scatter plot using Plotly to allow us the ability to hover over data points in order to identify our countries. "
   ]
  },
  {
   "cell_type": "code",
   "execution_count": 15,
   "id": "10b1ddaf",
   "metadata": {},
   "outputs": [
    {
     "name": "stderr",
     "output_type": "stream",
     "text": [
      "c:\\Users\\hidde\\Documents\\vscode-projects\\food-price-inflation-analysis\\.venv\\Lib\\site-packages\\plotly\\express\\_core.py:2044: FutureWarning: The default of observed=False is deprecated and will be changed to True in a future version of pandas. Pass observed=False to retain current behavior or observed=True to adopt the future default and silence this warning.\n",
      "  grouped = df.groupby(required_grouper, sort=False)  # skip one_group groupers\n"
     ]
    },
    {
     "data": {
      "application/vnd.plotly.v1+json": {
       "config": {
        "plotlyServerURL": "https://plot.ly"
       },
       "data": [
        {
         "hovertemplate": "<b>%{hovertext}</b><br><br>inflation_band=deflation<br>Average Annualized Food Volatility=%{x}<br>Food Inflation (%)=%{y}<br>number_of_food_items=%{marker.size}<extra></extra>",
         "hovertext": [
          "Afghanistan",
          "Burkina Faso",
          "Mali",
          "Niger",
          "Somalia",
          "Yemen, Rep."
         ],
         "legendgroup": "deflation",
         "marker": {
          "color": "#636efa",
          "line": {
           "color": "DarkSlateGrey",
           "width": 1
          },
          "opacity": 0.8,
          "size": [
           3,
           3,
           5,
           3,
           5,
           15
          ],
          "sizemode": "area",
          "sizeref": 0.065,
          "symbol": "circle"
         },
         "mode": "markers",
         "name": "deflation",
         "orientation": "v",
         "showlegend": true,
         "type": "scatter",
         "x": [
          7.93,
          13.71,
          8.26,
          9.54,
          9.54,
          10.65
         ],
         "xaxis": "x",
         "y": [
          -6.5,
          -15.91,
          -11.62,
          -0.61,
          -14.56,
          -1.85
         ],
         "yaxis": "y"
        },
        {
         "hovertemplate": "<b>%{hovertext}</b><br><br>inflation_band=high<br>Average Annualized Food Volatility=%{x}<br>Food Inflation (%)=%{y}<br>number_of_food_items=%{marker.size}<extra></extra>",
         "hovertext": [
          "Burundi",
          "Congo, Dem. Rep.",
          "Gambia, The",
          "Haiti",
          "Lao Pdr",
          "Lebanon",
          "Myanmar",
          "South Sudan",
          "Sudan",
          "Syrian Arab Republic"
         ],
         "legendgroup": "high",
         "marker": {
          "color": "#EF553B",
          "line": {
           "color": "DarkSlateGrey",
           "width": 1
          },
          "opacity": 0.8,
          "size": [
           10,
           17,
           26,
           8,
           11,
           22,
           3,
           9,
           4,
           24
          ],
          "sizemode": "area",
          "sizeref": 0.065,
          "symbol": "circle"
         },
         "mode": "markers",
         "name": "high",
         "orientation": "v",
         "showlegend": true,
         "type": "scatter",
         "x": [
          12.03,
          6.99,
          7.15,
          11.66,
          3.6,
          18.17,
          9.89,
          22.75,
          24.77,
          12.68
         ],
         "xaxis": "x",
         "y": [
          26.79,
          14.09,
          21.56,
          48.44,
          27.13,
          139.28,
          62.34,
          73.82,
          34.75,
          69.08
         ],
         "yaxis": "y"
        },
        {
         "hovertemplate": "<b>%{hovertext}</b><br><br>inflation_band=low<br>Average Annualized Food Volatility=%{x}<br>Food Inflation (%)=%{y}<br>number_of_food_items=%{marker.size}<extra></extra>",
         "hovertext": [
          "Cameroon",
          "Central African Republic",
          "Chad",
          "Congo, Rep.",
          "Guinea-Bissau",
          "Mozambique"
         ],
         "legendgroup": "low",
         "marker": {
          "color": "#00cc96",
          "line": {
           "color": "DarkSlateGrey",
           "width": 1
          },
          "opacity": 0.8,
          "size": [
           10,
           5,
           4,
           4,
           5,
           7
          ],
          "sizemode": "area",
          "sizeref": 0.065,
          "symbol": "circle"
         },
         "mode": "markers",
         "name": "low",
         "orientation": "v",
         "showlegend": true,
         "type": "scatter",
         "x": [
          1.84,
          13.74,
          12.58,
          5.45,
          11.77,
          6.6
         ],
         "xaxis": "x",
         "y": [
          2.28,
          0.04,
          0.99,
          4.14,
          3.81,
          3.99
         ],
         "yaxis": "y"
        },
        {
         "hovertemplate": "<b>%{hovertext}</b><br><br>inflation_band=medium<br>Average Annualized Food Volatility=%{x}<br>Food Inflation (%)=%{y}<br>number_of_food_items=%{marker.size}<extra></extra>",
         "hovertext": [
          "Iraq",
          "Liberia",
          "Nigeria"
         ],
         "legendgroup": "medium",
         "marker": {
          "color": "#ab63fa",
          "line": {
           "color": "DarkSlateGrey",
           "width": 1
          },
          "opacity": 0.8,
          "size": [
           18,
           4,
           8
          ],
          "sizemode": "area",
          "sizeref": 0.065,
          "symbol": "circle"
         },
         "mode": "markers",
         "name": "medium",
         "orientation": "v",
         "showlegend": true,
         "type": "scatter",
         "x": [
          3.64,
          7.98,
          11.84
         ],
         "xaxis": "x",
         "y": [
          7.38,
          6.41,
          6.83
         ],
         "yaxis": "y"
        }
       ],
       "layout": {
        "legend": {
         "itemsizing": "constant",
         "title": {
          "text": "inflation_band"
         },
         "tracegroupgap": 0
        },
        "template": {
         "data": {
          "bar": [
           {
            "error_x": {
             "color": "#2a3f5f"
            },
            "error_y": {
             "color": "#2a3f5f"
            },
            "marker": {
             "line": {
              "color": "#E5ECF6",
              "width": 0.5
             },
             "pattern": {
              "fillmode": "overlay",
              "size": 10,
              "solidity": 0.2
             }
            },
            "type": "bar"
           }
          ],
          "barpolar": [
           {
            "marker": {
             "line": {
              "color": "#E5ECF6",
              "width": 0.5
             },
             "pattern": {
              "fillmode": "overlay",
              "size": 10,
              "solidity": 0.2
             }
            },
            "type": "barpolar"
           }
          ],
          "carpet": [
           {
            "aaxis": {
             "endlinecolor": "#2a3f5f",
             "gridcolor": "white",
             "linecolor": "white",
             "minorgridcolor": "white",
             "startlinecolor": "#2a3f5f"
            },
            "baxis": {
             "endlinecolor": "#2a3f5f",
             "gridcolor": "white",
             "linecolor": "white",
             "minorgridcolor": "white",
             "startlinecolor": "#2a3f5f"
            },
            "type": "carpet"
           }
          ],
          "choropleth": [
           {
            "colorbar": {
             "outlinewidth": 0,
             "ticks": ""
            },
            "type": "choropleth"
           }
          ],
          "contour": [
           {
            "colorbar": {
             "outlinewidth": 0,
             "ticks": ""
            },
            "colorscale": [
             [
              0,
              "#0d0887"
             ],
             [
              0.1111111111111111,
              "#46039f"
             ],
             [
              0.2222222222222222,
              "#7201a8"
             ],
             [
              0.3333333333333333,
              "#9c179e"
             ],
             [
              0.4444444444444444,
              "#bd3786"
             ],
             [
              0.5555555555555556,
              "#d8576b"
             ],
             [
              0.6666666666666666,
              "#ed7953"
             ],
             [
              0.7777777777777778,
              "#fb9f3a"
             ],
             [
              0.8888888888888888,
              "#fdca26"
             ],
             [
              1,
              "#f0f921"
             ]
            ],
            "type": "contour"
           }
          ],
          "contourcarpet": [
           {
            "colorbar": {
             "outlinewidth": 0,
             "ticks": ""
            },
            "type": "contourcarpet"
           }
          ],
          "heatmap": [
           {
            "colorbar": {
             "outlinewidth": 0,
             "ticks": ""
            },
            "colorscale": [
             [
              0,
              "#0d0887"
             ],
             [
              0.1111111111111111,
              "#46039f"
             ],
             [
              0.2222222222222222,
              "#7201a8"
             ],
             [
              0.3333333333333333,
              "#9c179e"
             ],
             [
              0.4444444444444444,
              "#bd3786"
             ],
             [
              0.5555555555555556,
              "#d8576b"
             ],
             [
              0.6666666666666666,
              "#ed7953"
             ],
             [
              0.7777777777777778,
              "#fb9f3a"
             ],
             [
              0.8888888888888888,
              "#fdca26"
             ],
             [
              1,
              "#f0f921"
             ]
            ],
            "type": "heatmap"
           }
          ],
          "heatmapgl": [
           {
            "colorbar": {
             "outlinewidth": 0,
             "ticks": ""
            },
            "colorscale": [
             [
              0,
              "#0d0887"
             ],
             [
              0.1111111111111111,
              "#46039f"
             ],
             [
              0.2222222222222222,
              "#7201a8"
             ],
             [
              0.3333333333333333,
              "#9c179e"
             ],
             [
              0.4444444444444444,
              "#bd3786"
             ],
             [
              0.5555555555555556,
              "#d8576b"
             ],
             [
              0.6666666666666666,
              "#ed7953"
             ],
             [
              0.7777777777777778,
              "#fb9f3a"
             ],
             [
              0.8888888888888888,
              "#fdca26"
             ],
             [
              1,
              "#f0f921"
             ]
            ],
            "type": "heatmapgl"
           }
          ],
          "histogram": [
           {
            "marker": {
             "pattern": {
              "fillmode": "overlay",
              "size": 10,
              "solidity": 0.2
             }
            },
            "type": "histogram"
           }
          ],
          "histogram2d": [
           {
            "colorbar": {
             "outlinewidth": 0,
             "ticks": ""
            },
            "colorscale": [
             [
              0,
              "#0d0887"
             ],
             [
              0.1111111111111111,
              "#46039f"
             ],
             [
              0.2222222222222222,
              "#7201a8"
             ],
             [
              0.3333333333333333,
              "#9c179e"
             ],
             [
              0.4444444444444444,
              "#bd3786"
             ],
             [
              0.5555555555555556,
              "#d8576b"
             ],
             [
              0.6666666666666666,
              "#ed7953"
             ],
             [
              0.7777777777777778,
              "#fb9f3a"
             ],
             [
              0.8888888888888888,
              "#fdca26"
             ],
             [
              1,
              "#f0f921"
             ]
            ],
            "type": "histogram2d"
           }
          ],
          "histogram2dcontour": [
           {
            "colorbar": {
             "outlinewidth": 0,
             "ticks": ""
            },
            "colorscale": [
             [
              0,
              "#0d0887"
             ],
             [
              0.1111111111111111,
              "#46039f"
             ],
             [
              0.2222222222222222,
              "#7201a8"
             ],
             [
              0.3333333333333333,
              "#9c179e"
             ],
             [
              0.4444444444444444,
              "#bd3786"
             ],
             [
              0.5555555555555556,
              "#d8576b"
             ],
             [
              0.6666666666666666,
              "#ed7953"
             ],
             [
              0.7777777777777778,
              "#fb9f3a"
             ],
             [
              0.8888888888888888,
              "#fdca26"
             ],
             [
              1,
              "#f0f921"
             ]
            ],
            "type": "histogram2dcontour"
           }
          ],
          "mesh3d": [
           {
            "colorbar": {
             "outlinewidth": 0,
             "ticks": ""
            },
            "type": "mesh3d"
           }
          ],
          "parcoords": [
           {
            "line": {
             "colorbar": {
              "outlinewidth": 0,
              "ticks": ""
             }
            },
            "type": "parcoords"
           }
          ],
          "pie": [
           {
            "automargin": true,
            "type": "pie"
           }
          ],
          "scatter": [
           {
            "fillpattern": {
             "fillmode": "overlay",
             "size": 10,
             "solidity": 0.2
            },
            "type": "scatter"
           }
          ],
          "scatter3d": [
           {
            "line": {
             "colorbar": {
              "outlinewidth": 0,
              "ticks": ""
             }
            },
            "marker": {
             "colorbar": {
              "outlinewidth": 0,
              "ticks": ""
             }
            },
            "type": "scatter3d"
           }
          ],
          "scattercarpet": [
           {
            "marker": {
             "colorbar": {
              "outlinewidth": 0,
              "ticks": ""
             }
            },
            "type": "scattercarpet"
           }
          ],
          "scattergeo": [
           {
            "marker": {
             "colorbar": {
              "outlinewidth": 0,
              "ticks": ""
             }
            },
            "type": "scattergeo"
           }
          ],
          "scattergl": [
           {
            "marker": {
             "colorbar": {
              "outlinewidth": 0,
              "ticks": ""
             }
            },
            "type": "scattergl"
           }
          ],
          "scattermapbox": [
           {
            "marker": {
             "colorbar": {
              "outlinewidth": 0,
              "ticks": ""
             }
            },
            "type": "scattermapbox"
           }
          ],
          "scatterpolar": [
           {
            "marker": {
             "colorbar": {
              "outlinewidth": 0,
              "ticks": ""
             }
            },
            "type": "scatterpolar"
           }
          ],
          "scatterpolargl": [
           {
            "marker": {
             "colorbar": {
              "outlinewidth": 0,
              "ticks": ""
             }
            },
            "type": "scatterpolargl"
           }
          ],
          "scatterternary": [
           {
            "marker": {
             "colorbar": {
              "outlinewidth": 0,
              "ticks": ""
             }
            },
            "type": "scatterternary"
           }
          ],
          "surface": [
           {
            "colorbar": {
             "outlinewidth": 0,
             "ticks": ""
            },
            "colorscale": [
             [
              0,
              "#0d0887"
             ],
             [
              0.1111111111111111,
              "#46039f"
             ],
             [
              0.2222222222222222,
              "#7201a8"
             ],
             [
              0.3333333333333333,
              "#9c179e"
             ],
             [
              0.4444444444444444,
              "#bd3786"
             ],
             [
              0.5555555555555556,
              "#d8576b"
             ],
             [
              0.6666666666666666,
              "#ed7953"
             ],
             [
              0.7777777777777778,
              "#fb9f3a"
             ],
             [
              0.8888888888888888,
              "#fdca26"
             ],
             [
              1,
              "#f0f921"
             ]
            ],
            "type": "surface"
           }
          ],
          "table": [
           {
            "cells": {
             "fill": {
              "color": "#EBF0F8"
             },
             "line": {
              "color": "white"
             }
            },
            "header": {
             "fill": {
              "color": "#C8D4E3"
             },
             "line": {
              "color": "white"
             }
            },
            "type": "table"
           }
          ]
         },
         "layout": {
          "annotationdefaults": {
           "arrowcolor": "#2a3f5f",
           "arrowhead": 0,
           "arrowwidth": 1
          },
          "autotypenumbers": "strict",
          "coloraxis": {
           "colorbar": {
            "outlinewidth": 0,
            "ticks": ""
           }
          },
          "colorscale": {
           "diverging": [
            [
             0,
             "#8e0152"
            ],
            [
             0.1,
             "#c51b7d"
            ],
            [
             0.2,
             "#de77ae"
            ],
            [
             0.3,
             "#f1b6da"
            ],
            [
             0.4,
             "#fde0ef"
            ],
            [
             0.5,
             "#f7f7f7"
            ],
            [
             0.6,
             "#e6f5d0"
            ],
            [
             0.7,
             "#b8e186"
            ],
            [
             0.8,
             "#7fbc41"
            ],
            [
             0.9,
             "#4d9221"
            ],
            [
             1,
             "#276419"
            ]
           ],
           "sequential": [
            [
             0,
             "#0d0887"
            ],
            [
             0.1111111111111111,
             "#46039f"
            ],
            [
             0.2222222222222222,
             "#7201a8"
            ],
            [
             0.3333333333333333,
             "#9c179e"
            ],
            [
             0.4444444444444444,
             "#bd3786"
            ],
            [
             0.5555555555555556,
             "#d8576b"
            ],
            [
             0.6666666666666666,
             "#ed7953"
            ],
            [
             0.7777777777777778,
             "#fb9f3a"
            ],
            [
             0.8888888888888888,
             "#fdca26"
            ],
            [
             1,
             "#f0f921"
            ]
           ],
           "sequentialminus": [
            [
             0,
             "#0d0887"
            ],
            [
             0.1111111111111111,
             "#46039f"
            ],
            [
             0.2222222222222222,
             "#7201a8"
            ],
            [
             0.3333333333333333,
             "#9c179e"
            ],
            [
             0.4444444444444444,
             "#bd3786"
            ],
            [
             0.5555555555555556,
             "#d8576b"
            ],
            [
             0.6666666666666666,
             "#ed7953"
            ],
            [
             0.7777777777777778,
             "#fb9f3a"
            ],
            [
             0.8888888888888888,
             "#fdca26"
            ],
            [
             1,
             "#f0f921"
            ]
           ]
          },
          "colorway": [
           "#636efa",
           "#EF553B",
           "#00cc96",
           "#ab63fa",
           "#FFA15A",
           "#19d3f3",
           "#FF6692",
           "#B6E880",
           "#FF97FF",
           "#FECB52"
          ],
          "font": {
           "color": "#2a3f5f"
          },
          "geo": {
           "bgcolor": "white",
           "lakecolor": "white",
           "landcolor": "#E5ECF6",
           "showlakes": true,
           "showland": true,
           "subunitcolor": "white"
          },
          "hoverlabel": {
           "align": "left"
          },
          "hovermode": "closest",
          "mapbox": {
           "style": "light"
          },
          "paper_bgcolor": "white",
          "plot_bgcolor": "#E5ECF6",
          "polar": {
           "angularaxis": {
            "gridcolor": "white",
            "linecolor": "white",
            "ticks": ""
           },
           "bgcolor": "#E5ECF6",
           "radialaxis": {
            "gridcolor": "white",
            "linecolor": "white",
            "ticks": ""
           }
          },
          "scene": {
           "xaxis": {
            "backgroundcolor": "#E5ECF6",
            "gridcolor": "white",
            "gridwidth": 2,
            "linecolor": "white",
            "showbackground": true,
            "ticks": "",
            "zerolinecolor": "white"
           },
           "yaxis": {
            "backgroundcolor": "#E5ECF6",
            "gridcolor": "white",
            "gridwidth": 2,
            "linecolor": "white",
            "showbackground": true,
            "ticks": "",
            "zerolinecolor": "white"
           },
           "zaxis": {
            "backgroundcolor": "#E5ECF6",
            "gridcolor": "white",
            "gridwidth": 2,
            "linecolor": "white",
            "showbackground": true,
            "ticks": "",
            "zerolinecolor": "white"
           }
          },
          "shapedefaults": {
           "line": {
            "color": "#2a3f5f"
           }
          },
          "ternary": {
           "aaxis": {
            "gridcolor": "white",
            "linecolor": "white",
            "ticks": ""
           },
           "baxis": {
            "gridcolor": "white",
            "linecolor": "white",
            "ticks": ""
           },
           "bgcolor": "#E5ECF6",
           "caxis": {
            "gridcolor": "white",
            "linecolor": "white",
            "ticks": ""
           }
          },
          "title": {
           "x": 0.05
          },
          "xaxis": {
           "automargin": true,
           "gridcolor": "white",
           "linecolor": "white",
           "ticks": "",
           "title": {
            "standoff": 15
           },
           "zerolinecolor": "white",
           "zerolinewidth": 2
          },
          "yaxis": {
           "automargin": true,
           "gridcolor": "white",
           "linecolor": "white",
           "ticks": "",
           "title": {
            "standoff": 15
           },
           "zerolinecolor": "white",
           "zerolinewidth": 2
          }
         }
        },
        "title": {
         "text": "Inflation vs Volatility (Interactive)"
        },
        "xaxis": {
         "anchor": "y",
         "domain": [
          0,
          1
         ],
         "title": {
          "text": "Average Annualized Food Volatility"
         }
        },
        "yaxis": {
         "anchor": "x",
         "domain": [
          0,
          1
         ],
         "title": {
          "text": "Food Inflation (%)"
         }
        }
       }
      }
     },
     "metadata": {},
     "output_type": "display_data"
    }
   ],
   "source": [
    "import plotly.express as px\n",
    "\n",
    "fig = px.scatter(\n",
    "    df,\n",
    "    x=\"average_annualized_food_volatility\",\n",
    "    y=\"inflation\",\n",
    "    hover_name=\"country\",  # country name appears on hover\n",
    "    size=\"number_of_food_items\",  # optional: bubble size by number of items tracked\n",
    "    color=\"inflation_band\",       # optional: color points by inflation band\n",
    "    title=\"Inflation vs Volatility (Interactive)\",\n",
    "    labels={\n",
    "        \"average_annualized_food_volatility\": \"Average Annualized Food Volatility\",\n",
    "        \"inflation\": \"Food Inflation (%)\"\n",
    "    }\n",
    ")\n",
    "\n",
    "fig.update_traces(marker=dict(opacity=0.8, line=dict(width=1, color=\"DarkSlateGrey\")))\n",
    "fig.show()\n"
   ]
  },
  {
   "cell_type": "markdown",
   "id": "06554179",
   "metadata": {},
   "source": [
    "### Inflation vs Volatility\n",
    "\n",
    "This scatter plot compares **food inflation (%)** with **average annualized food price volatility**.\n",
    "\n",
    "**Observations:**\n",
    "- There is a **moderate positive relationship** - countries with higher inflation also tend to show higher volatility.\n",
    "- For example:\n",
    "  - **Lebanon, South Sudan, Sudan** appear in the upper-right corner (both high inflation and high volatility).\n",
    "  - Countries like **Cameroon and Iraq** have low inflation *and* low volatility, clustering near the bottom-left.\n",
    "- The **median lines** help highlight that most countries fall below both thresholds, with only a few outliers driving the upper ranges.\n",
    "\n",
    "**Interpretation:**\n",
    "- This suggests that extreme food inflation often comes hand-in-hand with **unstable, unpredictable prices**.\n",
    "- Policymakers and analysts should be cautious: high inflation is not just about prices rising, but also about prices becoming erratic, which compounds risks for consumers.\n",
    "\n",
    "---"
   ]
  },
  {
   "cell_type": "markdown",
   "id": "132c5690",
   "metadata": {},
   "source": [
    "### Inflation vs Maximum Food Drawdown\n",
    "Next let us compare the *inflation* variable vs *maximum_food_drawdown* \n",
    "In finance and economics 'drawdown' is used to describe the peak-to-trough decline of a price over a given period, from it's maximum price, to it's minimum. It is typically expressed as a percentage, although we can see in our dataset that it is given as a negative number, representing the *losses*. Therefore, we can assume that the greater the negative drawdown, the worse the past collapse in food prices has been. \n",
    "\n",
    "Comparing *drawdown* to *inflation* will allow us to see:\n",
    "- large drawdown can indicate a fragile food system\n",
    "- if a country has experienced a sharp collapse in the past, it may also be more vulnerable to inflationary spikes moving forward\n",
    "- is there any pattern between countries with severe past price collapses and current inflation levels?\n",
    "\n",
    "Due to the negative values in our drawdown column, it makes sense to convert these into absolute numbers (conversion to positive numbers) in order to clarify our visualisations.\n",
    "\n"
   ]
  },
  {
   "cell_type": "code",
   "execution_count": 18,
   "id": "9655f5e4",
   "metadata": {},
   "outputs": [
    {
     "name": "stderr",
     "output_type": "stream",
     "text": [
      "c:\\Users\\hidde\\Documents\\vscode-projects\\food-price-inflation-analysis\\.venv\\Lib\\site-packages\\plotly\\express\\_core.py:2044: FutureWarning:\n",
      "\n",
      "The default of observed=False is deprecated and will be changed to True in a future version of pandas. Pass observed=False to retain current behavior or observed=True to adopt the future default and silence this warning.\n",
      "\n"
     ]
    },
    {
     "data": {
      "application/vnd.plotly.v1+json": {
       "config": {
        "plotlyServerURL": "https://plot.ly"
       },
       "data": [
        {
         "hovertemplate": "<b>%{hovertext}</b><br><br>inflation_band=deflation<br>Maximum Food Drawdown (absolute %)=%{x}<br>Food Inflation (%)=%{y}<br>number_of_food_items=%{marker.size}<extra></extra>",
         "hovertext": [
          "Afghanistan",
          "Burkina Faso",
          "Mali",
          "Niger",
          "Somalia",
          "Yemen, Rep."
         ],
         "legendgroup": "deflation",
         "marker": {
          "color": "#636efa",
          "line": {
           "color": "DarkSlateGrey",
           "width": 1
          },
          "opacity": 0.8,
          "size": [
           3,
           3,
           5,
           3,
           5,
           15
          ],
          "sizemode": "area",
          "sizeref": 0.065,
          "symbol": "circle"
         },
         "mode": "markers",
         "name": "deflation",
         "orientation": "v",
         "showlegend": true,
         "type": "scatter",
         "x": [
          40.67,
          36.7,
          38.68,
          23.76,
          37.03,
          14.88
         ],
         "xaxis": "x",
         "y": [
          -6.5,
          -15.91,
          -11.62,
          -0.61,
          -14.56,
          -1.85
         ],
         "yaxis": "y"
        },
        {
         "hovertemplate": "<b>%{hovertext}</b><br><br>inflation_band=high<br>Maximum Food Drawdown (absolute %)=%{x}<br>Food Inflation (%)=%{y}<br>number_of_food_items=%{marker.size}<extra></extra>",
         "hovertext": [
          "Burundi",
          "Congo, Dem. Rep.",
          "Gambia, The",
          "Haiti",
          "Lao Pdr",
          "Lebanon",
          "Myanmar",
          "South Sudan",
          "Sudan",
          "Syrian Arab Republic"
         ],
         "legendgroup": "high",
         "marker": {
          "color": "#EF553B",
          "line": {
           "color": "DarkSlateGrey",
           "width": 1
          },
          "opacity": 0.8,
          "size": [
           10,
           17,
           26,
           8,
           11,
           22,
           3,
           9,
           4,
           24
          ],
          "sizemode": "area",
          "sizeref": 0.065,
          "symbol": "circle"
         },
         "mode": "markers",
         "name": "high",
         "orientation": "v",
         "showlegend": true,
         "type": "scatter",
         "x": [
          30.77,
          15.73,
          20.83,
          31.98,
          7.92,
          12.13,
          23.71,
          29.43,
          12.16,
          13.96
         ],
         "xaxis": "x",
         "y": [
          26.79,
          14.09,
          21.56,
          48.44,
          27.13,
          139.28,
          62.34,
          73.82,
          34.75,
          69.08
         ],
         "yaxis": "y"
        },
        {
         "hovertemplate": "<b>%{hovertext}</b><br><br>inflation_band=low<br>Maximum Food Drawdown (absolute %)=%{x}<br>Food Inflation (%)=%{y}<br>number_of_food_items=%{marker.size}<extra></extra>",
         "hovertext": [
          "Cameroon",
          "Central African Republic",
          "Chad",
          "Congo, Rep.",
          "Guinea-Bissau",
          "Mozambique"
         ],
         "legendgroup": "low",
         "marker": {
          "color": "#00cc96",
          "line": {
           "color": "DarkSlateGrey",
           "width": 1
          },
          "opacity": 0.8,
          "size": [
           10,
           5,
           4,
           4,
           5,
           7
          ],
          "sizemode": "area",
          "sizeref": 0.065,
          "symbol": "circle"
         },
         "mode": "markers",
         "name": "low",
         "orientation": "v",
         "showlegend": true,
         "type": "scatter",
         "x": [
          2.79,
          24.85,
          32.67,
          8.13,
          28.04,
          22.6
         ],
         "xaxis": "x",
         "y": [
          2.28,
          0.04,
          0.99,
          4.14,
          3.81,
          3.99
         ],
         "yaxis": "y"
        },
        {
         "hovertemplate": "<b>%{hovertext}</b><br><br>inflation_band=medium<br>Maximum Food Drawdown (absolute %)=%{x}<br>Food Inflation (%)=%{y}<br>number_of_food_items=%{marker.size}<extra></extra>",
         "hovertext": [
          "Iraq",
          "Liberia",
          "Nigeria"
         ],
         "legendgroup": "medium",
         "marker": {
          "color": "#ab63fa",
          "line": {
           "color": "DarkSlateGrey",
           "width": 1
          },
          "opacity": 0.8,
          "size": [
           18,
           4,
           8
          ],
          "sizemode": "area",
          "sizeref": 0.065,
          "symbol": "circle"
         },
         "mode": "markers",
         "name": "medium",
         "orientation": "v",
         "showlegend": true,
         "type": "scatter",
         "x": [
          14.16,
          10.82,
          37.05
         ],
         "xaxis": "x",
         "y": [
          7.38,
          6.41,
          6.83
         ],
         "yaxis": "y"
        }
       ],
       "layout": {
        "legend": {
         "itemsizing": "constant",
         "title": {
          "text": "inflation_band"
         },
         "tracegroupgap": 0
        },
        "template": {
         "data": {
          "bar": [
           {
            "error_x": {
             "color": "#2a3f5f"
            },
            "error_y": {
             "color": "#2a3f5f"
            },
            "marker": {
             "line": {
              "color": "#E5ECF6",
              "width": 0.5
             },
             "pattern": {
              "fillmode": "overlay",
              "size": 10,
              "solidity": 0.2
             }
            },
            "type": "bar"
           }
          ],
          "barpolar": [
           {
            "marker": {
             "line": {
              "color": "#E5ECF6",
              "width": 0.5
             },
             "pattern": {
              "fillmode": "overlay",
              "size": 10,
              "solidity": 0.2
             }
            },
            "type": "barpolar"
           }
          ],
          "carpet": [
           {
            "aaxis": {
             "endlinecolor": "#2a3f5f",
             "gridcolor": "white",
             "linecolor": "white",
             "minorgridcolor": "white",
             "startlinecolor": "#2a3f5f"
            },
            "baxis": {
             "endlinecolor": "#2a3f5f",
             "gridcolor": "white",
             "linecolor": "white",
             "minorgridcolor": "white",
             "startlinecolor": "#2a3f5f"
            },
            "type": "carpet"
           }
          ],
          "choropleth": [
           {
            "colorbar": {
             "outlinewidth": 0,
             "ticks": ""
            },
            "type": "choropleth"
           }
          ],
          "contour": [
           {
            "colorbar": {
             "outlinewidth": 0,
             "ticks": ""
            },
            "colorscale": [
             [
              0,
              "#0d0887"
             ],
             [
              0.1111111111111111,
              "#46039f"
             ],
             [
              0.2222222222222222,
              "#7201a8"
             ],
             [
              0.3333333333333333,
              "#9c179e"
             ],
             [
              0.4444444444444444,
              "#bd3786"
             ],
             [
              0.5555555555555556,
              "#d8576b"
             ],
             [
              0.6666666666666666,
              "#ed7953"
             ],
             [
              0.7777777777777778,
              "#fb9f3a"
             ],
             [
              0.8888888888888888,
              "#fdca26"
             ],
             [
              1,
              "#f0f921"
             ]
            ],
            "type": "contour"
           }
          ],
          "contourcarpet": [
           {
            "colorbar": {
             "outlinewidth": 0,
             "ticks": ""
            },
            "type": "contourcarpet"
           }
          ],
          "heatmap": [
           {
            "colorbar": {
             "outlinewidth": 0,
             "ticks": ""
            },
            "colorscale": [
             [
              0,
              "#0d0887"
             ],
             [
              0.1111111111111111,
              "#46039f"
             ],
             [
              0.2222222222222222,
              "#7201a8"
             ],
             [
              0.3333333333333333,
              "#9c179e"
             ],
             [
              0.4444444444444444,
              "#bd3786"
             ],
             [
              0.5555555555555556,
              "#d8576b"
             ],
             [
              0.6666666666666666,
              "#ed7953"
             ],
             [
              0.7777777777777778,
              "#fb9f3a"
             ],
             [
              0.8888888888888888,
              "#fdca26"
             ],
             [
              1,
              "#f0f921"
             ]
            ],
            "type": "heatmap"
           }
          ],
          "heatmapgl": [
           {
            "colorbar": {
             "outlinewidth": 0,
             "ticks": ""
            },
            "colorscale": [
             [
              0,
              "#0d0887"
             ],
             [
              0.1111111111111111,
              "#46039f"
             ],
             [
              0.2222222222222222,
              "#7201a8"
             ],
             [
              0.3333333333333333,
              "#9c179e"
             ],
             [
              0.4444444444444444,
              "#bd3786"
             ],
             [
              0.5555555555555556,
              "#d8576b"
             ],
             [
              0.6666666666666666,
              "#ed7953"
             ],
             [
              0.7777777777777778,
              "#fb9f3a"
             ],
             [
              0.8888888888888888,
              "#fdca26"
             ],
             [
              1,
              "#f0f921"
             ]
            ],
            "type": "heatmapgl"
           }
          ],
          "histogram": [
           {
            "marker": {
             "pattern": {
              "fillmode": "overlay",
              "size": 10,
              "solidity": 0.2
             }
            },
            "type": "histogram"
           }
          ],
          "histogram2d": [
           {
            "colorbar": {
             "outlinewidth": 0,
             "ticks": ""
            },
            "colorscale": [
             [
              0,
              "#0d0887"
             ],
             [
              0.1111111111111111,
              "#46039f"
             ],
             [
              0.2222222222222222,
              "#7201a8"
             ],
             [
              0.3333333333333333,
              "#9c179e"
             ],
             [
              0.4444444444444444,
              "#bd3786"
             ],
             [
              0.5555555555555556,
              "#d8576b"
             ],
             [
              0.6666666666666666,
              "#ed7953"
             ],
             [
              0.7777777777777778,
              "#fb9f3a"
             ],
             [
              0.8888888888888888,
              "#fdca26"
             ],
             [
              1,
              "#f0f921"
             ]
            ],
            "type": "histogram2d"
           }
          ],
          "histogram2dcontour": [
           {
            "colorbar": {
             "outlinewidth": 0,
             "ticks": ""
            },
            "colorscale": [
             [
              0,
              "#0d0887"
             ],
             [
              0.1111111111111111,
              "#46039f"
             ],
             [
              0.2222222222222222,
              "#7201a8"
             ],
             [
              0.3333333333333333,
              "#9c179e"
             ],
             [
              0.4444444444444444,
              "#bd3786"
             ],
             [
              0.5555555555555556,
              "#d8576b"
             ],
             [
              0.6666666666666666,
              "#ed7953"
             ],
             [
              0.7777777777777778,
              "#fb9f3a"
             ],
             [
              0.8888888888888888,
              "#fdca26"
             ],
             [
              1,
              "#f0f921"
             ]
            ],
            "type": "histogram2dcontour"
           }
          ],
          "mesh3d": [
           {
            "colorbar": {
             "outlinewidth": 0,
             "ticks": ""
            },
            "type": "mesh3d"
           }
          ],
          "parcoords": [
           {
            "line": {
             "colorbar": {
              "outlinewidth": 0,
              "ticks": ""
             }
            },
            "type": "parcoords"
           }
          ],
          "pie": [
           {
            "automargin": true,
            "type": "pie"
           }
          ],
          "scatter": [
           {
            "fillpattern": {
             "fillmode": "overlay",
             "size": 10,
             "solidity": 0.2
            },
            "type": "scatter"
           }
          ],
          "scatter3d": [
           {
            "line": {
             "colorbar": {
              "outlinewidth": 0,
              "ticks": ""
             }
            },
            "marker": {
             "colorbar": {
              "outlinewidth": 0,
              "ticks": ""
             }
            },
            "type": "scatter3d"
           }
          ],
          "scattercarpet": [
           {
            "marker": {
             "colorbar": {
              "outlinewidth": 0,
              "ticks": ""
             }
            },
            "type": "scattercarpet"
           }
          ],
          "scattergeo": [
           {
            "marker": {
             "colorbar": {
              "outlinewidth": 0,
              "ticks": ""
             }
            },
            "type": "scattergeo"
           }
          ],
          "scattergl": [
           {
            "marker": {
             "colorbar": {
              "outlinewidth": 0,
              "ticks": ""
             }
            },
            "type": "scattergl"
           }
          ],
          "scattermapbox": [
           {
            "marker": {
             "colorbar": {
              "outlinewidth": 0,
              "ticks": ""
             }
            },
            "type": "scattermapbox"
           }
          ],
          "scatterpolar": [
           {
            "marker": {
             "colorbar": {
              "outlinewidth": 0,
              "ticks": ""
             }
            },
            "type": "scatterpolar"
           }
          ],
          "scatterpolargl": [
           {
            "marker": {
             "colorbar": {
              "outlinewidth": 0,
              "ticks": ""
             }
            },
            "type": "scatterpolargl"
           }
          ],
          "scatterternary": [
           {
            "marker": {
             "colorbar": {
              "outlinewidth": 0,
              "ticks": ""
             }
            },
            "type": "scatterternary"
           }
          ],
          "surface": [
           {
            "colorbar": {
             "outlinewidth": 0,
             "ticks": ""
            },
            "colorscale": [
             [
              0,
              "#0d0887"
             ],
             [
              0.1111111111111111,
              "#46039f"
             ],
             [
              0.2222222222222222,
              "#7201a8"
             ],
             [
              0.3333333333333333,
              "#9c179e"
             ],
             [
              0.4444444444444444,
              "#bd3786"
             ],
             [
              0.5555555555555556,
              "#d8576b"
             ],
             [
              0.6666666666666666,
              "#ed7953"
             ],
             [
              0.7777777777777778,
              "#fb9f3a"
             ],
             [
              0.8888888888888888,
              "#fdca26"
             ],
             [
              1,
              "#f0f921"
             ]
            ],
            "type": "surface"
           }
          ],
          "table": [
           {
            "cells": {
             "fill": {
              "color": "#EBF0F8"
             },
             "line": {
              "color": "white"
             }
            },
            "header": {
             "fill": {
              "color": "#C8D4E3"
             },
             "line": {
              "color": "white"
             }
            },
            "type": "table"
           }
          ]
         },
         "layout": {
          "annotationdefaults": {
           "arrowcolor": "#2a3f5f",
           "arrowhead": 0,
           "arrowwidth": 1
          },
          "autotypenumbers": "strict",
          "coloraxis": {
           "colorbar": {
            "outlinewidth": 0,
            "ticks": ""
           }
          },
          "colorscale": {
           "diverging": [
            [
             0,
             "#8e0152"
            ],
            [
             0.1,
             "#c51b7d"
            ],
            [
             0.2,
             "#de77ae"
            ],
            [
             0.3,
             "#f1b6da"
            ],
            [
             0.4,
             "#fde0ef"
            ],
            [
             0.5,
             "#f7f7f7"
            ],
            [
             0.6,
             "#e6f5d0"
            ],
            [
             0.7,
             "#b8e186"
            ],
            [
             0.8,
             "#7fbc41"
            ],
            [
             0.9,
             "#4d9221"
            ],
            [
             1,
             "#276419"
            ]
           ],
           "sequential": [
            [
             0,
             "#0d0887"
            ],
            [
             0.1111111111111111,
             "#46039f"
            ],
            [
             0.2222222222222222,
             "#7201a8"
            ],
            [
             0.3333333333333333,
             "#9c179e"
            ],
            [
             0.4444444444444444,
             "#bd3786"
            ],
            [
             0.5555555555555556,
             "#d8576b"
            ],
            [
             0.6666666666666666,
             "#ed7953"
            ],
            [
             0.7777777777777778,
             "#fb9f3a"
            ],
            [
             0.8888888888888888,
             "#fdca26"
            ],
            [
             1,
             "#f0f921"
            ]
           ],
           "sequentialminus": [
            [
             0,
             "#0d0887"
            ],
            [
             0.1111111111111111,
             "#46039f"
            ],
            [
             0.2222222222222222,
             "#7201a8"
            ],
            [
             0.3333333333333333,
             "#9c179e"
            ],
            [
             0.4444444444444444,
             "#bd3786"
            ],
            [
             0.5555555555555556,
             "#d8576b"
            ],
            [
             0.6666666666666666,
             "#ed7953"
            ],
            [
             0.7777777777777778,
             "#fb9f3a"
            ],
            [
             0.8888888888888888,
             "#fdca26"
            ],
            [
             1,
             "#f0f921"
            ]
           ]
          },
          "colorway": [
           "#636efa",
           "#EF553B",
           "#00cc96",
           "#ab63fa",
           "#FFA15A",
           "#19d3f3",
           "#FF6692",
           "#B6E880",
           "#FF97FF",
           "#FECB52"
          ],
          "font": {
           "color": "#2a3f5f"
          },
          "geo": {
           "bgcolor": "white",
           "lakecolor": "white",
           "landcolor": "#E5ECF6",
           "showlakes": true,
           "showland": true,
           "subunitcolor": "white"
          },
          "hoverlabel": {
           "align": "left"
          },
          "hovermode": "closest",
          "mapbox": {
           "style": "light"
          },
          "paper_bgcolor": "white",
          "plot_bgcolor": "#E5ECF6",
          "polar": {
           "angularaxis": {
            "gridcolor": "white",
            "linecolor": "white",
            "ticks": ""
           },
           "bgcolor": "#E5ECF6",
           "radialaxis": {
            "gridcolor": "white",
            "linecolor": "white",
            "ticks": ""
           }
          },
          "scene": {
           "xaxis": {
            "backgroundcolor": "#E5ECF6",
            "gridcolor": "white",
            "gridwidth": 2,
            "linecolor": "white",
            "showbackground": true,
            "ticks": "",
            "zerolinecolor": "white"
           },
           "yaxis": {
            "backgroundcolor": "#E5ECF6",
            "gridcolor": "white",
            "gridwidth": 2,
            "linecolor": "white",
            "showbackground": true,
            "ticks": "",
            "zerolinecolor": "white"
           },
           "zaxis": {
            "backgroundcolor": "#E5ECF6",
            "gridcolor": "white",
            "gridwidth": 2,
            "linecolor": "white",
            "showbackground": true,
            "ticks": "",
            "zerolinecolor": "white"
           }
          },
          "shapedefaults": {
           "line": {
            "color": "#2a3f5f"
           }
          },
          "ternary": {
           "aaxis": {
            "gridcolor": "white",
            "linecolor": "white",
            "ticks": ""
           },
           "baxis": {
            "gridcolor": "white",
            "linecolor": "white",
            "ticks": ""
           },
           "bgcolor": "#E5ECF6",
           "caxis": {
            "gridcolor": "white",
            "linecolor": "white",
            "ticks": ""
           }
          },
          "title": {
           "x": 0.05
          },
          "xaxis": {
           "automargin": true,
           "gridcolor": "white",
           "linecolor": "white",
           "ticks": "",
           "title": {
            "standoff": 15
           },
           "zerolinecolor": "white",
           "zerolinewidth": 2
          },
          "yaxis": {
           "automargin": true,
           "gridcolor": "white",
           "linecolor": "white",
           "ticks": "",
           "title": {
            "standoff": 15
           },
           "zerolinecolor": "white",
           "zerolinewidth": 2
          }
         }
        },
        "title": {
         "text": "Inflation vs Maximum Food Drawdown (Absolute)"
        },
        "xaxis": {
         "anchor": "y",
         "domain": [
          0,
          1
         ],
         "title": {
          "text": "Maximum Food Drawdown (absolute %)"
         }
        },
        "yaxis": {
         "anchor": "x",
         "domain": [
          0,
          1
         ],
         "title": {
          "text": "Food Inflation (%)"
         }
        }
       }
      }
     },
     "metadata": {},
     "output_type": "display_data"
    }
   ],
   "source": [
    "import plotly.express as px\n",
    "\n",
    "# Create a column for absolute drawdown (magnitude)\n",
    "df[\"max_drawdown_abs\"] = df[\"maximum_food_drawdown\"].abs()\n",
    "\n",
    "fig = px.scatter(\n",
    "    df,\n",
    "    x=\"max_drawdown_abs\",\n",
    "    y=\"inflation\",\n",
    "    hover_name=\"country\",\n",
    "    color=\"inflation_band\",\n",
    "    size=\"number_of_food_items\",\n",
    "    title=\"Inflation vs Maximum Food Drawdown (Absolute)\",\n",
    "    labels={\n",
    "        \"max_drawdown_abs\": \"Maximum Food Drawdown (absolute %)\",\n",
    "        \"inflation\": \"Food Inflation (%)\"\n",
    "    }\n",
    ")\n",
    "\n",
    "fig.update_traces(marker=dict(opacity=0.8, line=dict(width=1, color=\"DarkSlateGrey\")))\n",
    "fig.show()\n"
   ]
  },
  {
   "cell_type": "markdown",
   "id": "97fba308",
   "metadata": {},
   "source": [
    "### Inflation vs Maximum Food Drawdown\n",
    "\n",
    "- **Definition:** Maximum food drawdown represents the largest historical collapse in food prices (peak to trough).\n",
    "- In our dataset, values are negative by construction, so we use **absolute values** to show magnitude.\n",
    "\n",
    "**Observations:**\n",
    "- Some countries with **large past collapses** (e.g., Afghanistan, Mali, Nigeria, Somalia) currently show **deflation or modest inflation**.\n",
    "- Meanwhile, countries like **Lebanon and South Sudan** have very high inflation but relatively smaller historical drawdowns.\n",
    "- This suggests that **past drawdowns are not a reliable predictor** of current inflation levels.\n",
    "\n",
    "**Interpretation:**\n",
    "- A severe past collapse in food prices does not necessarily mean high inflation today.\n",
    "- Instead, inflation seems more connected to **current volatility and economic instability** rather than past crashes.\n",
    "\n",
    "---"
   ]
  },
  {
   "cell_type": "markdown",
   "id": "8cb4b255",
   "metadata": {},
   "source": [
    "### Inflation Vs Data Coverage\n",
    "\n",
    "Before visualising, it is important to understand why **data coverage** matters.\n",
    "\n",
    "- **Definition:**  \n",
    "  Data coverage represents how much of a country’s food basket or food market is captured in this dataset.  \n",
    "  - High coverage (e.g., ~70%) = a broad, representative picture.  \n",
    "  - Low coverage (e.g., ~10%) = only a small subset of foods is being tracked.  \n",
    "\n",
    "- **Why it matters:**  \n",
    "  - Countries with **low coverage** might show extreme inflation or deflation values simply because a few items dominate the measurement.  \n",
    "  - Countries with **high coverage** give a more reliable and representative measure of food price inflation.  \n",
    "\n",
    "- **Our goal:**  \n",
    "  By comparing **Inflation vs Data Coverage**, we want to check if extreme inflation cases (e.g., Lebanon, South Sudan) are genuine economic crises, or if they could partly be explained by limited data coverage.  \n",
    "\n",
    "In other words, this analysis helps us separate **real inflation pressures** from possible **data artefacts**.\n"
   ]
  },
  {
   "cell_type": "code",
   "execution_count": 19,
   "id": "6c867f91",
   "metadata": {},
   "outputs": [
    {
     "name": "stderr",
     "output_type": "stream",
     "text": [
      "c:\\Users\\hidde\\Documents\\vscode-projects\\food-price-inflation-analysis\\.venv\\Lib\\site-packages\\plotly\\express\\_core.py:2044: FutureWarning:\n",
      "\n",
      "The default of observed=False is deprecated and will be changed to True in a future version of pandas. Pass observed=False to retain current behavior or observed=True to adopt the future default and silence this warning.\n",
      "\n"
     ]
    },
    {
     "data": {
      "application/vnd.plotly.v1+json": {
       "config": {
        "plotlyServerURL": "https://plot.ly"
       },
       "data": [
        {
         "hovertemplate": "<b>%{hovertext}</b><br><br>inflation_band=deflation<br>Data Coverage (%)=%{x}<br>Food Inflation (%)=%{y}<br>number_of_food_items=%{marker.size}<extra></extra>",
         "hovertext": [
          "Afghanistan",
          "Burkina Faso",
          "Mali",
          "Niger",
          "Somalia",
          "Yemen, Rep."
         ],
         "legendgroup": "deflation",
         "marker": {
          "color": "#636efa",
          "line": {
           "color": "DarkSlateGrey",
           "width": 1
          },
          "opacity": 0.8,
          "size": [
           3,
           3,
           5,
           3,
           5,
           15
          ],
          "sizemode": "area",
          "sizeref": 0.065,
          "symbol": "circle"
         },
         "mode": "markers",
         "name": "deflation",
         "orientation": "v",
         "showlegend": true,
         "type": "scatter",
         "x": [
          31.77,
          55.2,
          43.63,
          69.91,
          19.65,
          47.97
         ],
         "xaxis": "x",
         "y": [
          -6.5,
          -15.91,
          -11.62,
          -0.61,
          -14.56,
          -1.85
         ],
         "yaxis": "y"
        },
        {
         "hovertemplate": "<b>%{hovertext}</b><br><br>inflation_band=high<br>Data Coverage (%)=%{x}<br>Food Inflation (%)=%{y}<br>number_of_food_items=%{marker.size}<extra></extra>",
         "hovertext": [
          "Burundi",
          "Congo, Dem. Rep.",
          "Gambia, The",
          "Haiti",
          "Lao Pdr",
          "Lebanon",
          "Myanmar",
          "South Sudan",
          "Sudan",
          "Syrian Arab Republic"
         ],
         "legendgroup": "high",
         "marker": {
          "color": "#EF553B",
          "line": {
           "color": "DarkSlateGrey",
           "width": 1
          },
          "opacity": 0.8,
          "size": [
           10,
           17,
           26,
           8,
           11,
           22,
           3,
           9,
           4,
           24
          ],
          "sizemode": "area",
          "sizeref": 0.065,
          "symbol": "circle"
         },
         "mode": "markers",
         "name": "high",
         "orientation": "v",
         "showlegend": true,
         "type": "scatter",
         "x": [
          38.24,
          15.65,
          31.08,
          62.29,
          61.5,
          60.62,
          15.7,
          24.84,
          40.12,
          28.56
         ],
         "xaxis": "x",
         "y": [
          26.79,
          14.09,
          21.56,
          48.44,
          27.13,
          139.28,
          62.34,
          73.82,
          34.75,
          69.08
         ],
         "yaxis": "y"
        },
        {
         "hovertemplate": "<b>%{hovertext}</b><br><br>inflation_band=low<br>Data Coverage (%)=%{x}<br>Food Inflation (%)=%{y}<br>number_of_food_items=%{marker.size}<extra></extra>",
         "hovertext": [
          "Cameroon",
          "Central African Republic",
          "Chad",
          "Congo, Rep.",
          "Guinea-Bissau",
          "Mozambique"
         ],
         "legendgroup": "low",
         "marker": {
          "color": "#00cc96",
          "line": {
           "color": "DarkSlateGrey",
           "width": 1
          },
          "opacity": 0.8,
          "size": [
           10,
           5,
           4,
           4,
           5,
           7
          ],
          "sizemode": "area",
          "sizeref": 0.065,
          "symbol": "circle"
         },
         "mode": "markers",
         "name": "low",
         "orientation": "v",
         "showlegend": true,
         "type": "scatter",
         "x": [
          8.84,
          24.85,
          27.41,
          29.37,
          15.61,
          19.17
         ],
         "xaxis": "x",
         "y": [
          2.28,
          0.04,
          0.99,
          4.14,
          3.81,
          3.99
         ],
         "yaxis": "y"
        },
        {
         "hovertemplate": "<b>%{hovertext}</b><br><br>inflation_band=medium<br>Data Coverage (%)=%{x}<br>Food Inflation (%)=%{y}<br>number_of_food_items=%{marker.size}<extra></extra>",
         "hovertext": [
          "Iraq",
          "Liberia",
          "Nigeria"
         ],
         "legendgroup": "medium",
         "marker": {
          "color": "#ab63fa",
          "line": {
           "color": "DarkSlateGrey",
           "width": 1
          },
          "opacity": 0.8,
          "size": [
           18,
           4,
           8
          ],
          "sizemode": "area",
          "sizeref": 0.065,
          "symbol": "circle"
         },
         "mode": "markers",
         "name": "medium",
         "orientation": "v",
         "showlegend": true,
         "type": "scatter",
         "x": [
          56.52,
          33.46,
          21.55
         ],
         "xaxis": "x",
         "y": [
          7.38,
          6.41,
          6.83
         ],
         "yaxis": "y"
        }
       ],
       "layout": {
        "legend": {
         "itemsizing": "constant",
         "title": {
          "text": "inflation_band"
         },
         "tracegroupgap": 0
        },
        "template": {
         "data": {
          "bar": [
           {
            "error_x": {
             "color": "#2a3f5f"
            },
            "error_y": {
             "color": "#2a3f5f"
            },
            "marker": {
             "line": {
              "color": "#E5ECF6",
              "width": 0.5
             },
             "pattern": {
              "fillmode": "overlay",
              "size": 10,
              "solidity": 0.2
             }
            },
            "type": "bar"
           }
          ],
          "barpolar": [
           {
            "marker": {
             "line": {
              "color": "#E5ECF6",
              "width": 0.5
             },
             "pattern": {
              "fillmode": "overlay",
              "size": 10,
              "solidity": 0.2
             }
            },
            "type": "barpolar"
           }
          ],
          "carpet": [
           {
            "aaxis": {
             "endlinecolor": "#2a3f5f",
             "gridcolor": "white",
             "linecolor": "white",
             "minorgridcolor": "white",
             "startlinecolor": "#2a3f5f"
            },
            "baxis": {
             "endlinecolor": "#2a3f5f",
             "gridcolor": "white",
             "linecolor": "white",
             "minorgridcolor": "white",
             "startlinecolor": "#2a3f5f"
            },
            "type": "carpet"
           }
          ],
          "choropleth": [
           {
            "colorbar": {
             "outlinewidth": 0,
             "ticks": ""
            },
            "type": "choropleth"
           }
          ],
          "contour": [
           {
            "colorbar": {
             "outlinewidth": 0,
             "ticks": ""
            },
            "colorscale": [
             [
              0,
              "#0d0887"
             ],
             [
              0.1111111111111111,
              "#46039f"
             ],
             [
              0.2222222222222222,
              "#7201a8"
             ],
             [
              0.3333333333333333,
              "#9c179e"
             ],
             [
              0.4444444444444444,
              "#bd3786"
             ],
             [
              0.5555555555555556,
              "#d8576b"
             ],
             [
              0.6666666666666666,
              "#ed7953"
             ],
             [
              0.7777777777777778,
              "#fb9f3a"
             ],
             [
              0.8888888888888888,
              "#fdca26"
             ],
             [
              1,
              "#f0f921"
             ]
            ],
            "type": "contour"
           }
          ],
          "contourcarpet": [
           {
            "colorbar": {
             "outlinewidth": 0,
             "ticks": ""
            },
            "type": "contourcarpet"
           }
          ],
          "heatmap": [
           {
            "colorbar": {
             "outlinewidth": 0,
             "ticks": ""
            },
            "colorscale": [
             [
              0,
              "#0d0887"
             ],
             [
              0.1111111111111111,
              "#46039f"
             ],
             [
              0.2222222222222222,
              "#7201a8"
             ],
             [
              0.3333333333333333,
              "#9c179e"
             ],
             [
              0.4444444444444444,
              "#bd3786"
             ],
             [
              0.5555555555555556,
              "#d8576b"
             ],
             [
              0.6666666666666666,
              "#ed7953"
             ],
             [
              0.7777777777777778,
              "#fb9f3a"
             ],
             [
              0.8888888888888888,
              "#fdca26"
             ],
             [
              1,
              "#f0f921"
             ]
            ],
            "type": "heatmap"
           }
          ],
          "heatmapgl": [
           {
            "colorbar": {
             "outlinewidth": 0,
             "ticks": ""
            },
            "colorscale": [
             [
              0,
              "#0d0887"
             ],
             [
              0.1111111111111111,
              "#46039f"
             ],
             [
              0.2222222222222222,
              "#7201a8"
             ],
             [
              0.3333333333333333,
              "#9c179e"
             ],
             [
              0.4444444444444444,
              "#bd3786"
             ],
             [
              0.5555555555555556,
              "#d8576b"
             ],
             [
              0.6666666666666666,
              "#ed7953"
             ],
             [
              0.7777777777777778,
              "#fb9f3a"
             ],
             [
              0.8888888888888888,
              "#fdca26"
             ],
             [
              1,
              "#f0f921"
             ]
            ],
            "type": "heatmapgl"
           }
          ],
          "histogram": [
           {
            "marker": {
             "pattern": {
              "fillmode": "overlay",
              "size": 10,
              "solidity": 0.2
             }
            },
            "type": "histogram"
           }
          ],
          "histogram2d": [
           {
            "colorbar": {
             "outlinewidth": 0,
             "ticks": ""
            },
            "colorscale": [
             [
              0,
              "#0d0887"
             ],
             [
              0.1111111111111111,
              "#46039f"
             ],
             [
              0.2222222222222222,
              "#7201a8"
             ],
             [
              0.3333333333333333,
              "#9c179e"
             ],
             [
              0.4444444444444444,
              "#bd3786"
             ],
             [
              0.5555555555555556,
              "#d8576b"
             ],
             [
              0.6666666666666666,
              "#ed7953"
             ],
             [
              0.7777777777777778,
              "#fb9f3a"
             ],
             [
              0.8888888888888888,
              "#fdca26"
             ],
             [
              1,
              "#f0f921"
             ]
            ],
            "type": "histogram2d"
           }
          ],
          "histogram2dcontour": [
           {
            "colorbar": {
             "outlinewidth": 0,
             "ticks": ""
            },
            "colorscale": [
             [
              0,
              "#0d0887"
             ],
             [
              0.1111111111111111,
              "#46039f"
             ],
             [
              0.2222222222222222,
              "#7201a8"
             ],
             [
              0.3333333333333333,
              "#9c179e"
             ],
             [
              0.4444444444444444,
              "#bd3786"
             ],
             [
              0.5555555555555556,
              "#d8576b"
             ],
             [
              0.6666666666666666,
              "#ed7953"
             ],
             [
              0.7777777777777778,
              "#fb9f3a"
             ],
             [
              0.8888888888888888,
              "#fdca26"
             ],
             [
              1,
              "#f0f921"
             ]
            ],
            "type": "histogram2dcontour"
           }
          ],
          "mesh3d": [
           {
            "colorbar": {
             "outlinewidth": 0,
             "ticks": ""
            },
            "type": "mesh3d"
           }
          ],
          "parcoords": [
           {
            "line": {
             "colorbar": {
              "outlinewidth": 0,
              "ticks": ""
             }
            },
            "type": "parcoords"
           }
          ],
          "pie": [
           {
            "automargin": true,
            "type": "pie"
           }
          ],
          "scatter": [
           {
            "fillpattern": {
             "fillmode": "overlay",
             "size": 10,
             "solidity": 0.2
            },
            "type": "scatter"
           }
          ],
          "scatter3d": [
           {
            "line": {
             "colorbar": {
              "outlinewidth": 0,
              "ticks": ""
             }
            },
            "marker": {
             "colorbar": {
              "outlinewidth": 0,
              "ticks": ""
             }
            },
            "type": "scatter3d"
           }
          ],
          "scattercarpet": [
           {
            "marker": {
             "colorbar": {
              "outlinewidth": 0,
              "ticks": ""
             }
            },
            "type": "scattercarpet"
           }
          ],
          "scattergeo": [
           {
            "marker": {
             "colorbar": {
              "outlinewidth": 0,
              "ticks": ""
             }
            },
            "type": "scattergeo"
           }
          ],
          "scattergl": [
           {
            "marker": {
             "colorbar": {
              "outlinewidth": 0,
              "ticks": ""
             }
            },
            "type": "scattergl"
           }
          ],
          "scattermapbox": [
           {
            "marker": {
             "colorbar": {
              "outlinewidth": 0,
              "ticks": ""
             }
            },
            "type": "scattermapbox"
           }
          ],
          "scatterpolar": [
           {
            "marker": {
             "colorbar": {
              "outlinewidth": 0,
              "ticks": ""
             }
            },
            "type": "scatterpolar"
           }
          ],
          "scatterpolargl": [
           {
            "marker": {
             "colorbar": {
              "outlinewidth": 0,
              "ticks": ""
             }
            },
            "type": "scatterpolargl"
           }
          ],
          "scatterternary": [
           {
            "marker": {
             "colorbar": {
              "outlinewidth": 0,
              "ticks": ""
             }
            },
            "type": "scatterternary"
           }
          ],
          "surface": [
           {
            "colorbar": {
             "outlinewidth": 0,
             "ticks": ""
            },
            "colorscale": [
             [
              0,
              "#0d0887"
             ],
             [
              0.1111111111111111,
              "#46039f"
             ],
             [
              0.2222222222222222,
              "#7201a8"
             ],
             [
              0.3333333333333333,
              "#9c179e"
             ],
             [
              0.4444444444444444,
              "#bd3786"
             ],
             [
              0.5555555555555556,
              "#d8576b"
             ],
             [
              0.6666666666666666,
              "#ed7953"
             ],
             [
              0.7777777777777778,
              "#fb9f3a"
             ],
             [
              0.8888888888888888,
              "#fdca26"
             ],
             [
              1,
              "#f0f921"
             ]
            ],
            "type": "surface"
           }
          ],
          "table": [
           {
            "cells": {
             "fill": {
              "color": "#EBF0F8"
             },
             "line": {
              "color": "white"
             }
            },
            "header": {
             "fill": {
              "color": "#C8D4E3"
             },
             "line": {
              "color": "white"
             }
            },
            "type": "table"
           }
          ]
         },
         "layout": {
          "annotationdefaults": {
           "arrowcolor": "#2a3f5f",
           "arrowhead": 0,
           "arrowwidth": 1
          },
          "autotypenumbers": "strict",
          "coloraxis": {
           "colorbar": {
            "outlinewidth": 0,
            "ticks": ""
           }
          },
          "colorscale": {
           "diverging": [
            [
             0,
             "#8e0152"
            ],
            [
             0.1,
             "#c51b7d"
            ],
            [
             0.2,
             "#de77ae"
            ],
            [
             0.3,
             "#f1b6da"
            ],
            [
             0.4,
             "#fde0ef"
            ],
            [
             0.5,
             "#f7f7f7"
            ],
            [
             0.6,
             "#e6f5d0"
            ],
            [
             0.7,
             "#b8e186"
            ],
            [
             0.8,
             "#7fbc41"
            ],
            [
             0.9,
             "#4d9221"
            ],
            [
             1,
             "#276419"
            ]
           ],
           "sequential": [
            [
             0,
             "#0d0887"
            ],
            [
             0.1111111111111111,
             "#46039f"
            ],
            [
             0.2222222222222222,
             "#7201a8"
            ],
            [
             0.3333333333333333,
             "#9c179e"
            ],
            [
             0.4444444444444444,
             "#bd3786"
            ],
            [
             0.5555555555555556,
             "#d8576b"
            ],
            [
             0.6666666666666666,
             "#ed7953"
            ],
            [
             0.7777777777777778,
             "#fb9f3a"
            ],
            [
             0.8888888888888888,
             "#fdca26"
            ],
            [
             1,
             "#f0f921"
            ]
           ],
           "sequentialminus": [
            [
             0,
             "#0d0887"
            ],
            [
             0.1111111111111111,
             "#46039f"
            ],
            [
             0.2222222222222222,
             "#7201a8"
            ],
            [
             0.3333333333333333,
             "#9c179e"
            ],
            [
             0.4444444444444444,
             "#bd3786"
            ],
            [
             0.5555555555555556,
             "#d8576b"
            ],
            [
             0.6666666666666666,
             "#ed7953"
            ],
            [
             0.7777777777777778,
             "#fb9f3a"
            ],
            [
             0.8888888888888888,
             "#fdca26"
            ],
            [
             1,
             "#f0f921"
            ]
           ]
          },
          "colorway": [
           "#636efa",
           "#EF553B",
           "#00cc96",
           "#ab63fa",
           "#FFA15A",
           "#19d3f3",
           "#FF6692",
           "#B6E880",
           "#FF97FF",
           "#FECB52"
          ],
          "font": {
           "color": "#2a3f5f"
          },
          "geo": {
           "bgcolor": "white",
           "lakecolor": "white",
           "landcolor": "#E5ECF6",
           "showlakes": true,
           "showland": true,
           "subunitcolor": "white"
          },
          "hoverlabel": {
           "align": "left"
          },
          "hovermode": "closest",
          "mapbox": {
           "style": "light"
          },
          "paper_bgcolor": "white",
          "plot_bgcolor": "#E5ECF6",
          "polar": {
           "angularaxis": {
            "gridcolor": "white",
            "linecolor": "white",
            "ticks": ""
           },
           "bgcolor": "#E5ECF6",
           "radialaxis": {
            "gridcolor": "white",
            "linecolor": "white",
            "ticks": ""
           }
          },
          "scene": {
           "xaxis": {
            "backgroundcolor": "#E5ECF6",
            "gridcolor": "white",
            "gridwidth": 2,
            "linecolor": "white",
            "showbackground": true,
            "ticks": "",
            "zerolinecolor": "white"
           },
           "yaxis": {
            "backgroundcolor": "#E5ECF6",
            "gridcolor": "white",
            "gridwidth": 2,
            "linecolor": "white",
            "showbackground": true,
            "ticks": "",
            "zerolinecolor": "white"
           },
           "zaxis": {
            "backgroundcolor": "#E5ECF6",
            "gridcolor": "white",
            "gridwidth": 2,
            "linecolor": "white",
            "showbackground": true,
            "ticks": "",
            "zerolinecolor": "white"
           }
          },
          "shapedefaults": {
           "line": {
            "color": "#2a3f5f"
           }
          },
          "ternary": {
           "aaxis": {
            "gridcolor": "white",
            "linecolor": "white",
            "ticks": ""
           },
           "baxis": {
            "gridcolor": "white",
            "linecolor": "white",
            "ticks": ""
           },
           "bgcolor": "#E5ECF6",
           "caxis": {
            "gridcolor": "white",
            "linecolor": "white",
            "ticks": ""
           }
          },
          "title": {
           "x": 0.05
          },
          "xaxis": {
           "automargin": true,
           "gridcolor": "white",
           "linecolor": "white",
           "ticks": "",
           "title": {
            "standoff": 15
           },
           "zerolinecolor": "white",
           "zerolinewidth": 2
          },
          "yaxis": {
           "automargin": true,
           "gridcolor": "white",
           "linecolor": "white",
           "ticks": "",
           "title": {
            "standoff": 15
           },
           "zerolinecolor": "white",
           "zerolinewidth": 2
          }
         }
        },
        "title": {
         "text": "Inflation vs Data Coverage (Interactive)"
        },
        "xaxis": {
         "anchor": "y",
         "domain": [
          0,
          1
         ],
         "title": {
          "text": "Data Coverage (%)"
         }
        },
        "yaxis": {
         "anchor": "x",
         "domain": [
          0,
          1
         ],
         "title": {
          "text": "Food Inflation (%)"
         }
        }
       }
      }
     },
     "metadata": {},
     "output_type": "display_data"
    }
   ],
   "source": [
    "# Create a scatter plot for data coverage vs inflation\n",
    "\n",
    "fig = px.scatter(\n",
    "    df,\n",
    "    x=\"data_coverage_food\",\n",
    "    y=\"inflation\",\n",
    "    hover_name=\"country\",   # shows country name on hover\n",
    "    color=\"inflation_band\", # color points by inflation band\n",
    "    size=\"number_of_food_items\", # optional: bubble size by number of tracked items\n",
    "    title=\"Inflation vs Data Coverage (Interactive)\",\n",
    "    labels={\n",
    "        \"data_coverage_food\": \"Data Coverage (%)\",\n",
    "        \"inflation\": \"Food Inflation (%)\"\n",
    "    }\n",
    ")\n",
    "\n",
    "fig.update_traces(marker=dict(opacity=0.8, line=dict(width=1, color=\"DarkSlateGrey\")))\n",
    "fig.show()\n"
   ]
  },
  {
   "cell_type": "markdown",
   "id": "04ce6afb",
   "metadata": {},
   "source": [
    "### Inflation vs Data Coverage\n",
    "\n",
    "**Observations:**\n",
    "- Extreme inflation values (e.g., **Lebanon, South Sudan**) occur even where data coverage is relatively high, suggesting these are **genuine crises**, not just artefacts of poor coverage.\n",
    "- Countries with **low coverage** (below ~20%) do not systematically show higher or lower inflation — their results are scattered.\n",
    "- This suggests that **data coverage is not driving inflation outcomes** in this dataset.\n",
    "\n",
    "**Interpretation:**\n",
    "- Reported inflation levels appear to reflect **real economic conditions** rather than being an artefact of sample size.\n",
    "- We can therefore be more confident that our earlier findings (positive skew, extreme outliers, deflation cases) are meaningful.\n",
    "\n",
    "---"
   ]
  },
  {
   "cell_type": "markdown",
   "id": "8ed34ea7",
   "metadata": {},
   "source": [
    "## Bivariate Analysis - Key Findings\n",
    "\n",
    "From exploring the relationships between **food inflation** and other variables, we find:\n",
    "\n",
    "### 1. Inflation vs Volatility\n",
    "- There is a **moderate positive relationship**: countries with higher inflation tend to also have more **volatile and unstable food prices**.\n",
    "- Outliers like **Lebanon, South Sudan, and Sudan** sit in the high-inflation, high-volatility corner, highlighting both price surges and instability.\n",
    "\n",
    "### 2. Inflation vs Maximum Food Drawdown\n",
    "- Using absolute drawdown values (to represent the **magnitude of past price collapses**), we see **no clear relationship** with current inflation.\n",
    "- Example: **Afghanistan and Mali** have suffered large historical drawdowns but show modest or negative inflation today.\n",
    "- Interpretation: **Past collapses do not predict current inflation**. Inflation appears more tied to present-day instability than to historical crashes.\n",
    "\n",
    "### 3. Inflation vs Data Coverage\n",
    "- Extreme inflation cases (e.g., **Lebanon, South Sudan**) occur even with **relatively high coverage**, suggesting these are genuine crises rather than data artefacts.\n",
    "- Countries with low coverage (<20%) are scattered across the inflation scale, with no systematic bias.\n",
    "- Interpretation: **Data coverage does not explain inflation outcomes**, which increases confidence in our results.\n",
    "\n",
    "---\n",
    "\n",
    "### Overall Insights\n",
    "- **Food inflation is positively skewed**: most countries have modest inflation, but a few crisis-hit countries dominate the picture.  \n",
    "- **Volatility and inflation are linked**, reinforcing that price surges often come with instability.  \n",
    "- **Historical drawdowns are not strongly related** to current inflation.  \n",
    "- **Data coverage is not a major driver** of results, suggesting our findings are robust.  \n",
    "\n",
    "These insights confirm that our analysis of food price inflation highlights **real economic pressures**, especially in a small set of severely affected countries.\n"
   ]
  },
  {
   "cell_type": "code",
   "execution_count": null,
   "id": "50077d2d",
   "metadata": {},
   "outputs": [],
   "source": []
  }
 ],
 "metadata": {
  "kernelspec": {
   "display_name": ".venv",
   "language": "python",
   "name": "python3"
  },
  "language_info": {
   "codemirror_mode": {
    "name": "ipython",
    "version": 3
   },
   "file_extension": ".py",
   "mimetype": "text/x-python",
   "name": "python",
   "nbconvert_exporter": "python",
   "pygments_lexer": "ipython3",
   "version": "3.12.8"
  }
 },
 "nbformat": 4,
 "nbformat_minor": 5
}
