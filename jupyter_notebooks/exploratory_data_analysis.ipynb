{
 "cells": [
  {
   "cell_type": "markdown",
   "id": "b28f4973",
   "metadata": {},
   "source": [
    "## Exploratory Data Analysis"
   ]
  },
  {
   "cell_type": "markdown",
   "id": "6720838f",
   "metadata": {},
   "source": [
    "### Section 1 - Initial Data Handling"
   ]
  },
  {
   "cell_type": "markdown",
   "id": "76e3dbdc",
   "metadata": {},
   "source": [
    "Our first step is to import our libraries for analysis:"
   ]
  },
  {
   "cell_type": "code",
   "execution_count": 1,
   "id": "e0a539d9",
   "metadata": {},
   "outputs": [],
   "source": [
    "# import libraries\n",
    "import pandas as pd\n",
    "import numpy as np\n",
    "import matplotlib.pyplot as plt"
   ]
  },
  {
   "cell_type": "markdown",
   "id": "8c0aa4e6",
   "metadata": {},
   "source": [
    "Next we need to load our dataset for inspection:"
   ]
  },
  {
   "cell_type": "code",
   "execution_count": 3,
   "id": "1f102354",
   "metadata": {},
   "outputs": [],
   "source": [
    "df = pd.read_csv(\"../data/food_price_feature_engineered_clean.csv\")"
   ]
  },
  {
   "cell_type": "code",
   "execution_count": 4,
   "id": "8c7c7e09",
   "metadata": {},
   "outputs": [
    {
     "name": "stdout",
     "output_type": "stream",
     "text": [
      "<class 'pandas.core.frame.DataFrame'>\n",
      "RangeIndex: 25 entries, 0 to 24\n",
      "Data columns (total 18 columns):\n",
      " #   Column                              Non-Null Count  Dtype  \n",
      "---  ------                              --------------  -----  \n",
      " 0   country                             25 non-null     object \n",
      " 1   iso3                                25 non-null     object \n",
      " 2   components                          25 non-null     object \n",
      " 3   currency                            25 non-null     object \n",
      " 4   number_of_food_items                25 non-null     int64  \n",
      " 5   data_coverage_food                  25 non-null     float64\n",
      " 6   average_annualized_food_inflation   25 non-null     float64\n",
      " 7   maximum_food_drawdown               25 non-null     float64\n",
      " 8   average_annualized_food_volatility  25 non-null     float64\n",
      " 9   date                                25 non-null     object \n",
      " 10  open                                25 non-null     float64\n",
      " 11  high                                25 non-null     float64\n",
      " 12  low                                 25 non-null     float64\n",
      " 13  close                               25 non-null     float64\n",
      " 14  inflation                           25 non-null     float64\n",
      " 15  year                                25 non-null     int64  \n",
      " 16  month                               25 non-null     int64  \n",
      " 17  inflation_band                      25 non-null     object \n",
      "dtypes: float64(9), int64(3), object(6)\n",
      "memory usage: 3.6+ KB\n",
      "None\n"
     ]
    }
   ],
   "source": [
    "print(df.info())      # shows column names, types, and missing values\n",
    "\n"
   ]
  },
  {
   "cell_type": "markdown",
   "id": "172f9339",
   "metadata": {},
   "source": [
    "Here we can see that our dataset has the shape of 25 rows and 18 columns. \n",
    "We notice that each row is specific data concerning a seperate country.\n",
    "We also notice that our date is in float64 format, so it will be necessary to convert this to 'datetime'"
   ]
  },
  {
   "cell_type": "code",
   "execution_count": 5,
   "id": "3cba7fb9",
   "metadata": {},
   "outputs": [
    {
     "name": "stdout",
     "output_type": "stream",
     "text": [
      "<class 'pandas.core.frame.DataFrame'>\n",
      "RangeIndex: 25 entries, 0 to 24\n",
      "Data columns (total 18 columns):\n",
      " #   Column                              Non-Null Count  Dtype         \n",
      "---  ------                              --------------  -----         \n",
      " 0   country                             25 non-null     object        \n",
      " 1   iso3                                25 non-null     object        \n",
      " 2   components                          25 non-null     object        \n",
      " 3   currency                            25 non-null     object        \n",
      " 4   number_of_food_items                25 non-null     int64         \n",
      " 5   data_coverage_food                  25 non-null     float64       \n",
      " 6   average_annualized_food_inflation   25 non-null     float64       \n",
      " 7   maximum_food_drawdown               25 non-null     float64       \n",
      " 8   average_annualized_food_volatility  25 non-null     float64       \n",
      " 9   date                                25 non-null     datetime64[ns]\n",
      " 10  open                                25 non-null     float64       \n",
      " 11  high                                25 non-null     float64       \n",
      " 12  low                                 25 non-null     float64       \n",
      " 13  close                               25 non-null     float64       \n",
      " 14  inflation                           25 non-null     float64       \n",
      " 15  year                                25 non-null     int64         \n",
      " 16  month                               25 non-null     int64         \n",
      " 17  inflation_band                      25 non-null     object        \n",
      "dtypes: datetime64[ns](1), float64(9), int64(3), object(5)\n",
      "memory usage: 3.6+ KB\n",
      "None\n"
     ]
    }
   ],
   "source": [
    "# Convert 'date' column to datetime\n",
    "df['date'] = pd.to_datetime(df['date'])\n",
    "\n",
    "print(df.info())"
   ]
  },
  {
   "cell_type": "markdown",
   "id": "ddd6986a",
   "metadata": {},
   "source": [
    "Now that we have converted our 'date' column into the correct format, let's go ahead and transform our 'object' data types to categories."
   ]
  },
  {
   "cell_type": "code",
   "execution_count": 6,
   "id": "4b92c656",
   "metadata": {},
   "outputs": [],
   "source": [
    "# Convert object columns to category dtype\n",
    "cat_cols = [\"country\", \"iso3\", \"components\", \"currency\", \"inflation_band\"]\n",
    "for cat in cat_cols:\n",
    "    df[cat] = df[cat].astype(\"category\")"
   ]
  },
  {
   "cell_type": "code",
   "execution_count": 7,
   "id": "14ddc9ed",
   "metadata": {},
   "outputs": [
    {
     "name": "stdout",
     "output_type": "stream",
     "text": [
      "<class 'pandas.core.frame.DataFrame'>\n",
      "RangeIndex: 25 entries, 0 to 24\n",
      "Data columns (total 18 columns):\n",
      " #   Column                              Non-Null Count  Dtype         \n",
      "---  ------                              --------------  -----         \n",
      " 0   country                             25 non-null     category      \n",
      " 1   iso3                                25 non-null     category      \n",
      " 2   components                          25 non-null     category      \n",
      " 3   currency                            25 non-null     category      \n",
      " 4   number_of_food_items                25 non-null     int64         \n",
      " 5   data_coverage_food                  25 non-null     float64       \n",
      " 6   average_annualized_food_inflation   25 non-null     float64       \n",
      " 7   maximum_food_drawdown               25 non-null     float64       \n",
      " 8   average_annualized_food_volatility  25 non-null     float64       \n",
      " 9   date                                25 non-null     datetime64[ns]\n",
      " 10  open                                25 non-null     float64       \n",
      " 11  high                                25 non-null     float64       \n",
      " 12  low                                 25 non-null     float64       \n",
      " 13  close                               25 non-null     float64       \n",
      " 14  inflation                           25 non-null     float64       \n",
      " 15  year                                25 non-null     int64         \n",
      " 16  month                               25 non-null     int64         \n",
      " 17  inflation_band                      25 non-null     category      \n",
      "dtypes: category(5), datetime64[ns](1), float64(9), int64(3)\n",
      "memory usage: 5.9 KB\n",
      "None\n"
     ]
    }
   ],
   "source": [
    "print(df.info())"
   ]
  },
  {
   "cell_type": "markdown",
   "id": "958d600b",
   "metadata": {},
   "source": [
    "We have now successfully converted our columns into the correct data types.\n",
    "Next let us check for any missing values and duplicates:"
   ]
  },
  {
   "cell_type": "code",
   "execution_count": null,
   "id": "9464551f",
   "metadata": {},
   "outputs": [
    {
     "data": {
      "text/plain": [
       "country                               0\n",
       "iso3                                  0\n",
       "month                                 0\n",
       "year                                  0\n",
       "inflation                             0\n",
       "close                                 0\n",
       "low                                   0\n",
       "high                                  0\n",
       "open                                  0\n",
       "date                                  0\n",
       "average_annualized_food_volatility    0\n",
       "maximum_food_drawdown                 0\n",
       "average_annualized_food_inflation     0\n",
       "data_coverage_food                    0\n",
       "number_of_food_items                  0\n",
       "currency                              0\n",
       "components                            0\n",
       "inflation_band                        0\n",
       "dtype: int64"
      ]
     },
     "execution_count": 13,
     "metadata": {},
     "output_type": "execute_result"
    }
   ],
   "source": [
    "# Inspect missing values.\n",
    "df.isna().sum().sort_values(ascending=False)\n"
   ]
  },
  {
   "cell_type": "markdown",
   "id": "25104635",
   "metadata": {},
   "source": [
    "Great, we see that there are no missing values, now let us check for duplicates:"
   ]
  },
  {
   "cell_type": "code",
   "execution_count": 14,
   "id": "e0766625",
   "metadata": {},
   "outputs": [
    {
     "data": {
      "text/html": [
       "<div>\n",
       "<style scoped>\n",
       "    .dataframe tbody tr th:only-of-type {\n",
       "        vertical-align: middle;\n",
       "    }\n",
       "\n",
       "    .dataframe tbody tr th {\n",
       "        vertical-align: top;\n",
       "    }\n",
       "\n",
       "    .dataframe thead th {\n",
       "        text-align: right;\n",
       "    }\n",
       "</style>\n",
       "<table border=\"1\" class=\"dataframe\">\n",
       "  <thead>\n",
       "    <tr style=\"text-align: right;\">\n",
       "      <th></th>\n",
       "      <th>country</th>\n",
       "      <th>iso3</th>\n",
       "      <th>components</th>\n",
       "      <th>currency</th>\n",
       "      <th>number_of_food_items</th>\n",
       "      <th>data_coverage_food</th>\n",
       "      <th>average_annualized_food_inflation</th>\n",
       "      <th>maximum_food_drawdown</th>\n",
       "      <th>average_annualized_food_volatility</th>\n",
       "      <th>date</th>\n",
       "      <th>open</th>\n",
       "      <th>high</th>\n",
       "      <th>low</th>\n",
       "      <th>close</th>\n",
       "      <th>inflation</th>\n",
       "      <th>year</th>\n",
       "      <th>month</th>\n",
       "      <th>inflation_band</th>\n",
       "    </tr>\n",
       "  </thead>\n",
       "  <tbody>\n",
       "  </tbody>\n",
       "</table>\n",
       "</div>"
      ],
      "text/plain": [
       "Empty DataFrame\n",
       "Columns: [country, iso3, components, currency, number_of_food_items, data_coverage_food, average_annualized_food_inflation, maximum_food_drawdown, average_annualized_food_volatility, date, open, high, low, close, inflation, year, month, inflation_band]\n",
       "Index: []"
      ]
     },
     "execution_count": 14,
     "metadata": {},
     "output_type": "execute_result"
    }
   ],
   "source": [
    "# Inspect duplicates.\n",
    "df.duplicated().sum()\n",
    "df[df.duplicated()]\n"
   ]
  },
  {
   "cell_type": "code",
   "execution_count": 15,
   "id": "44bc559f",
   "metadata": {},
   "outputs": [
    {
     "data": {
      "text/plain": [
       "(['number_of_food_items',\n",
       "  'data_coverage_food',\n",
       "  'average_annualized_food_inflation',\n",
       "  'maximum_food_drawdown',\n",
       "  'average_annualized_food_volatility',\n",
       "  'open',\n",
       "  'high',\n",
       "  'low',\n",
       "  'close',\n",
       "  'inflation',\n",
       "  'year',\n",
       "  'month'],\n",
       " ['country', 'iso3', 'components', 'currency', 'inflation_band'])"
      ]
     },
     "execution_count": 15,
     "metadata": {},
     "output_type": "execute_result"
    }
   ],
   "source": [
    "# Identify numeric vs categorical columns\n",
    "num_cols = df.select_dtypes(include=\"number\").columns.tolist()\n",
    "cat_cols = df.select_dtypes(include=[\"object\", \"category\"]).columns.tolist()\n",
    "\n",
    "num_cols, cat_cols"
   ]
  },
  {
   "cell_type": "markdown",
   "id": "81710d89",
   "metadata": {},
   "source": [
    "We can now see that we do not have any duplicated entries in our dataset.\n",
    "As we are relatively confident about having correctly converted our data types, and that we have no missing values or duplicated entries; we can now move on to our inital, exploratory data analysis. \n",
    "Firstly we will look at the shape of each numeric column:"
   ]
  },
  {
   "cell_type": "code",
   "execution_count": 16,
   "id": "7f3d4039",
   "metadata": {},
   "outputs": [
    {
     "data": {
      "text/html": [
       "<div>\n",
       "<style scoped>\n",
       "    .dataframe tbody tr th:only-of-type {\n",
       "        vertical-align: middle;\n",
       "    }\n",
       "\n",
       "    .dataframe tbody tr th {\n",
       "        vertical-align: top;\n",
       "    }\n",
       "\n",
       "    .dataframe thead th {\n",
       "        text-align: right;\n",
       "    }\n",
       "</style>\n",
       "<table border=\"1\" class=\"dataframe\">\n",
       "  <thead>\n",
       "    <tr style=\"text-align: right;\">\n",
       "      <th></th>\n",
       "      <th>count</th>\n",
       "      <th>mean</th>\n",
       "      <th>std</th>\n",
       "      <th>min</th>\n",
       "      <th>25%</th>\n",
       "      <th>50%</th>\n",
       "      <th>75%</th>\n",
       "      <th>max</th>\n",
       "    </tr>\n",
       "  </thead>\n",
       "  <tbody>\n",
       "    <tr>\n",
       "      <th>number_of_food_items</th>\n",
       "      <td>25.0</td>\n",
       "      <td>9.3200</td>\n",
       "      <td>7.016172</td>\n",
       "      <td>3.00</td>\n",
       "      <td>4.00</td>\n",
       "      <td>7.00</td>\n",
       "      <td>11.00</td>\n",
       "      <td>26.00</td>\n",
       "    </tr>\n",
       "    <tr>\n",
       "      <th>data_coverage_food</th>\n",
       "      <td>25.0</td>\n",
       "      <td>35.3404</td>\n",
       "      <td>17.451470</td>\n",
       "      <td>8.84</td>\n",
       "      <td>21.55</td>\n",
       "      <td>31.08</td>\n",
       "      <td>47.97</td>\n",
       "      <td>69.91</td>\n",
       "    </tr>\n",
       "    <tr>\n",
       "      <th>average_annualized_food_inflation</th>\n",
       "      <td>25.0</td>\n",
       "      <td>12.1988</td>\n",
       "      <td>15.052045</td>\n",
       "      <td>1.24</td>\n",
       "      <td>3.58</td>\n",
       "      <td>6.68</td>\n",
       "      <td>10.79</td>\n",
       "      <td>55.30</td>\n",
       "    </tr>\n",
       "    <tr>\n",
       "      <th>maximum_food_drawdown</th>\n",
       "      <td>25.0</td>\n",
       "      <td>-22.8580</td>\n",
       "      <td>11.123922</td>\n",
       "      <td>-40.67</td>\n",
       "      <td>-31.98</td>\n",
       "      <td>-23.71</td>\n",
       "      <td>-13.96</td>\n",
       "      <td>-2.79</td>\n",
       "    </tr>\n",
       "    <tr>\n",
       "      <th>average_annualized_food_volatility</th>\n",
       "      <td>25.0</td>\n",
       "      <td>10.5904</td>\n",
       "      <td>5.413819</td>\n",
       "      <td>1.84</td>\n",
       "      <td>7.15</td>\n",
       "      <td>9.89</td>\n",
       "      <td>12.58</td>\n",
       "      <td>24.77</td>\n",
       "    </tr>\n",
       "    <tr>\n",
       "      <th>open</th>\n",
       "      <td>25.0</td>\n",
       "      <td>7.0976</td>\n",
       "      <td>16.762704</td>\n",
       "      <td>1.07</td>\n",
       "      <td>1.40</td>\n",
       "      <td>1.45</td>\n",
       "      <td>2.57</td>\n",
       "      <td>77.30</td>\n",
       "    </tr>\n",
       "    <tr>\n",
       "      <th>high</th>\n",
       "      <td>25.0</td>\n",
       "      <td>7.2752</td>\n",
       "      <td>17.269724</td>\n",
       "      <td>1.08</td>\n",
       "      <td>1.42</td>\n",
       "      <td>1.48</td>\n",
       "      <td>2.62</td>\n",
       "      <td>79.99</td>\n",
       "    </tr>\n",
       "    <tr>\n",
       "      <th>low</th>\n",
       "      <td>25.0</td>\n",
       "      <td>6.9152</td>\n",
       "      <td>16.255538</td>\n",
       "      <td>1.05</td>\n",
       "      <td>1.36</td>\n",
       "      <td>1.43</td>\n",
       "      <td>2.52</td>\n",
       "      <td>74.61</td>\n",
       "    </tr>\n",
       "    <tr>\n",
       "      <th>close</th>\n",
       "      <td>25.0</td>\n",
       "      <td>6.9876</td>\n",
       "      <td>16.377158</td>\n",
       "      <td>1.06</td>\n",
       "      <td>1.39</td>\n",
       "      <td>1.46</td>\n",
       "      <td>2.56</td>\n",
       "      <td>75.16</td>\n",
       "    </tr>\n",
       "    <tr>\n",
       "      <th>inflation</th>\n",
       "      <td>25.0</td>\n",
       "      <td>20.0840</td>\n",
       "      <td>35.317431</td>\n",
       "      <td>-15.91</td>\n",
       "      <td>0.04</td>\n",
       "      <td>6.41</td>\n",
       "      <td>27.13</td>\n",
       "      <td>139.28</td>\n",
       "    </tr>\n",
       "    <tr>\n",
       "      <th>year</th>\n",
       "      <td>25.0</td>\n",
       "      <td>2022.8400</td>\n",
       "      <td>0.624500</td>\n",
       "      <td>2020.00</td>\n",
       "      <td>2023.00</td>\n",
       "      <td>2023.00</td>\n",
       "      <td>2023.00</td>\n",
       "      <td>2023.00</td>\n",
       "    </tr>\n",
       "    <tr>\n",
       "      <th>month</th>\n",
       "      <td>25.0</td>\n",
       "      <td>6.6000</td>\n",
       "      <td>2.254625</td>\n",
       "      <td>1.00</td>\n",
       "      <td>6.00</td>\n",
       "      <td>7.00</td>\n",
       "      <td>8.00</td>\n",
       "      <td>9.00</td>\n",
       "    </tr>\n",
       "  </tbody>\n",
       "</table>\n",
       "</div>"
      ],
      "text/plain": [
       "                                    count       mean        std      min  \\\n",
       "number_of_food_items                 25.0     9.3200   7.016172     3.00   \n",
       "data_coverage_food                   25.0    35.3404  17.451470     8.84   \n",
       "average_annualized_food_inflation    25.0    12.1988  15.052045     1.24   \n",
       "maximum_food_drawdown                25.0   -22.8580  11.123922   -40.67   \n",
       "average_annualized_food_volatility   25.0    10.5904   5.413819     1.84   \n",
       "open                                 25.0     7.0976  16.762704     1.07   \n",
       "high                                 25.0     7.2752  17.269724     1.08   \n",
       "low                                  25.0     6.9152  16.255538     1.05   \n",
       "close                                25.0     6.9876  16.377158     1.06   \n",
       "inflation                            25.0    20.0840  35.317431   -15.91   \n",
       "year                                 25.0  2022.8400   0.624500  2020.00   \n",
       "month                                25.0     6.6000   2.254625     1.00   \n",
       "\n",
       "                                        25%      50%      75%      max  \n",
       "number_of_food_items                   4.00     7.00    11.00    26.00  \n",
       "data_coverage_food                    21.55    31.08    47.97    69.91  \n",
       "average_annualized_food_inflation      3.58     6.68    10.79    55.30  \n",
       "maximum_food_drawdown                -31.98   -23.71   -13.96    -2.79  \n",
       "average_annualized_food_volatility     7.15     9.89    12.58    24.77  \n",
       "open                                   1.40     1.45     2.57    77.30  \n",
       "high                                   1.42     1.48     2.62    79.99  \n",
       "low                                    1.36     1.43     2.52    74.61  \n",
       "close                                  1.39     1.46     2.56    75.16  \n",
       "inflation                              0.04     6.41    27.13   139.28  \n",
       "year                                2023.00  2023.00  2023.00  2023.00  \n",
       "month                                  6.00     7.00     8.00     9.00  "
      ]
     },
     "execution_count": 16,
     "metadata": {},
     "output_type": "execute_result"
    }
   ],
   "source": [
    "desc = df[num_cols].describe().T  # count, mean, std, min, quartiles, max\n",
    "desc\n"
   ]
  },
  {
   "cell_type": "code",
   "execution_count": null,
   "id": "247bdf15",
   "metadata": {},
   "outputs": [],
   "source": []
  }
 ],
 "metadata": {
  "kernelspec": {
   "display_name": ".venv",
   "language": "python",
   "name": "python3"
  },
  "language_info": {
   "codemirror_mode": {
    "name": "ipython",
    "version": 3
   },
   "file_extension": ".py",
   "mimetype": "text/x-python",
   "name": "python",
   "nbconvert_exporter": "python",
   "pygments_lexer": "ipython3",
   "version": "3.12.8"
  }
 },
 "nbformat": 4,
 "nbformat_minor": 5
}
